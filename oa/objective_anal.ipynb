{
 "cells": [
  {
   "cell_type": "code",
   "execution_count": 1,
   "metadata": {},
   "outputs": [],
   "source": [
    "import numpy as np\n",
    "import pandas as pd"
   ]
  },
  {
   "cell_type": "markdown",
   "metadata": {},
   "source": [
    "### point data load(=ldps grid + obs point)"
   ]
  },
  {
   "cell_type": "code",
   "execution_count": 40,
   "metadata": {},
   "outputs": [
    {
     "name": "stdout",
     "output_type": "stream",
     "text": [
      "nwp_u:  (781, 602)\n",
      "nwp_v:  (781, 602)\n",
      "-14.243284 9.999e+20\n",
      "-8.791781 9.999e+20\n",
      "(array([  0,   0,   0, ..., 780, 780, 780], dtype=int64), array([593, 594, 595, ..., 599, 600, 601], dtype=int64))\n",
      "lat shape:  (781, 602)\n",
      "lon shape:  (781, 602)\n",
      "dif lon:  {0.01632, 0.01643, 0.01615, 0.01626, 0.01637, 0.01609, 0.0162, 0.01631, 0.01642, 0.01614, 0.01625, 0.01636, 0.01608, 0.01619, 0.0163, 0.01613, 0.01641, 0.01624, 0.01635, 0.01618, 0.01629, 0.01612, 0.0164, 0.01623, 0.01634, 0.01617, 0.01628, 0.01639, 0.01611, 0.01622, 0.0161, 0.01633, 0.01616, 0.01627, 0.01638, 0.01621}\n",
      "dif lat:  {0.01364, 0.01361, 0.01365, 0.01362, 0.01366, 0.01367, 0.01363, 0.0136}\n"
     ]
    },
    {
     "data": {
      "text/plain": [
       "(array([  0,   0,   0, ..., 780, 780, 780], dtype=int64),\n",
       " array([  0,   1,   2, ..., 590, 591, 592], dtype=int64))"
      ]
     },
     "execution_count": 40,
     "metadata": {},
     "output_type": "execute_result"
    }
   ],
   "source": [
    "import numpy as np\n",
    "import netCDF4 as nc\n",
    "import glob\n",
    "\n",
    "# nwp grid, stn(bias corrected) load, here example use obs data instead of bias corrected nwp\n",
    "# nwp grid\n",
    "#input_dir = \"/Users/mankikim/JOB/DATA/\"\n",
    "input_dir = \"/Users/mankikim/Desktop/DATA_LINK/\"\n",
    "#files = glob.glob(input_dir + \"*.nc\")\n",
    "files = glob.glob(input_dir + \"l015_v070_erlo_unis_20kind.2023041000.nc\")\n",
    "# nc_file = nc.Dataset(files[-1])\n",
    "# print(nc_file)\n",
    "\n",
    "nwp_grd_u = np.array(nc.Dataset(files[-1]).variables['UGRD_10maboveground'])[0,:,:]\n",
    "nwp_grd_v = np.array(nc.Dataset(files[-1]).variables['VGRD_10maboveground'])[0,:,:]\n",
    "print(\"nwp_u: \", nwp_grd_u.shape)\n",
    "print(\"nwp_v: \", nwp_grd_u.shape)\n",
    "print(nwp_grd_u.min(), nwp_grd_u.max())\n",
    "print(nwp_grd_v.min(), nwp_grd_v.max())\n",
    "print(np.where(nwp_grd_v>=20))\n",
    "\n",
    "\n",
    "nwp_lat = np.load(\"../fcst_wind/DAIO/nwp/ldaps_lat_grid\")\n",
    "nwp_lon = np.load(\"../fcst_wind/DAIO/nwp/ldaps_lon_grid\")\n",
    "print(\"lat shape: \", nwp_lat.shape)\n",
    "print(\"lon shape: \", nwp_lon.shape)\n",
    "\n",
    "\n",
    "# check diff --> 4째자리부터 차이 있음\n",
    "dif_lon = []\n",
    "dif_lat = []\n",
    "#for i in range(nwp_lon.shape[0]):\n",
    "#    for j in range(nwp_lon.shape[1]-1):\n",
    "for i in range(100):\n",
    "    for j in range(100):\n",
    "        dif_lon.append( np.round(nwp_lon[i,j+1] - nwp_lon[i,j], 5))\n",
    "        dif_lat.append( np.round(nwp_lat[i+1,j] - nwp_lat[i,j], 5))\n",
    "dlon = np.array(set(dif_lon))\n",
    "dlat = np.array(set(dif_lat))\n",
    "print(\"dif lon: \", dlon)\n",
    "print(\"dif lat: \", dlat)\n",
    "\n",
    "\n",
    "# # LDAPS 9999값 확인 필요 \n",
    "# idx = np.where( nwp_grd_u < 999. )\n",
    "#index = set(np.where(np.isnan(nwp_data))[0])\n",
    "np.where( nwp_grd_u < 999. )\n",
    "#print(a.shape)\n",
    "#sub_nwp_grd_u = nwp_grd_u[nwp_grd_u < 999.]\n",
    "#print(sub_nwp_grd_u.shape)\n",
    "#for i in range(nwp_lat.shape[0]):\n",
    "#    for j in range(nwp_lat.shape[1]):\n",
    "\n"
   ]
  },
  {
   "cell_type": "code",
   "execution_count": 34,
   "metadata": {},
   "outputs": [
    {
     "name": "stdout",
     "output_type": "stream",
     "text": [
      "(2, 3)\n",
      "[[0 0]\n",
      " [0 2]\n",
      " [1 1]]\n"
     ]
    }
   ],
   "source": [
    "import numpy as np\n",
    "\n",
    "# Create a NumPy array\n",
    "array = np.array([[True, False, True],\n",
    "                  [False, True, False]])\n",
    "print(array.shape)\n",
    "# Get the true indices\n",
    "true_indices = np.argwhere(array)\n",
    "\n",
    "# Print the true indices\n",
    "print(true_indices)"
   ]
  },
  {
   "cell_type": "code",
   "execution_count": null,
   "metadata": {},
   "outputs": [],
   "source": [
    "# obs stn for 불규칙 데이터\n",
    "obs_stnd = np.load(\"../fcst_wind/DAIO/obs_data_47105\")\n",
    "print(obs_stnd.shape)\n",
    "\n",
    "\n",
    "# select U & V\n",
    "#if sel_v == 'u':\n",
    "#    nwp_grid[:,:,0]"
   ]
  },
  {
   "cell_type": "markdown",
   "metadata": {},
   "source": [
    "#### 영역분리"
   ]
  },
  {
   "cell_type": "code",
   "execution_count": null,
   "metadata": {},
   "outputs": [],
   "source": [
    "# # 37~39, 127~129\n",
    "# print(nwp_lat.shape)\n",
    "# print(nwp_lon.shape)\n",
    "# #lat_mask = np.where(nwp_lat>=37.0 and nwp_lat<=39.0)\n",
    "# #ll_mask = np.where(np.logical_and(nwp_lat>=37.0, nwp_lat<=39.0, nwp_lon>=127.0, nwp_lon<=129.0) )\n",
    "# idx = (nwp_lat >= 37.0) & (nwp_lat <= 39.0) & (nwp_lon >= 127.0) & (nwp_lon <= 129.0)\n",
    "\n",
    "# print(idx)\n",
    "# sub_nwp_lat = nwp_lat[(nwp_lat >= 37.0) & (nwp_lat <= 39.0) & (nwp_lon >= 127.0) & (nwp_lon <= 129.0)]\n",
    "\n",
    "# print(sub_nwp_lat.shape)\n",
    "# #sub_nwp_grd_u = nwp_grd_u[ll_mask]\n",
    "# #sub_nwp_grd_v = nwp_grd_v[ll_mask]\n"
   ]
  },
  {
   "cell_type": "markdown",
   "metadata": {},
   "source": [
    "### 불규칙데이터 생성"
   ]
  },
  {
   "cell_type": "code",
   "execution_count": 15,
   "metadata": {},
   "outputs": [
    {
     "name": "stdout",
     "output_type": "stream",
     "text": [
      "ldps points:  470162\n",
      "[[ 32.256875   121.834429    -0.7100811 ]\n",
      " [ 32.25758153 121.85050501  -0.58459282]\n",
      " [ 32.25828532 121.86658136  -0.46105766]\n",
      " [ 32.2589864  121.88265804  -0.40197563]\n",
      " [ 32.25968474 121.89873506  -0.41564751]]\n",
      "32.256875000000015 , 121.83442899999999\n",
      "42.93468114328637 , 132.531874170454\n",
      "-0.7100811004638672\n",
      "(470162, 2)\n",
      "(470162,)\n",
      "-14.243284225463867 9.999000260554009e+20\n"
     ]
    }
   ],
   "source": [
    "# 인풋 shape 만들기\n",
    "flatten_input = []\n",
    "for i in range(nwp_lat.shape[0]): # lat\n",
    "    for j in range(nwp_lat.shape[1]): # lon\n",
    "        flatten_input.append([ nwp_lat[i,j], nwp_lon[i,j], nwp_grd_u[0,i,j] ])\n",
    "\n",
    "\n",
    "# asarray(copy=False)\n",
    "print(\"ldps points: \",len(flatten_input))\n",
    "input_data = np.asarray(flatten_input)\n",
    "print(input_data[0:5])\n",
    "\n",
    "# extract attribute \n",
    "lon_lat_data = input_data[:, 0:2]\n",
    "qff_values = input_data[:, 2]\n",
    "\n",
    "print(lon_lat_data[0][0], ',', lon_lat_data[0][1])\n",
    "print(lon_lat_data[-1][0], ',', lon_lat_data[-1][1])\n",
    "print(qff_values[0])\n",
    "\n",
    "print(lon_lat_data.shape)\n",
    "print(qff_values.shape)\n",
    "print(np.min(qff_values), np.max(qff_values))\n",
    "\n",
    "\n"
   ]
  },
  {
   "cell_type": "code",
   "execution_count": null,
   "metadata": {},
   "outputs": [],
   "source": [
    "#!C:\\Users\\tjoeun\\AppData\\Local\\Programs\\Python\\Python39\\Scripts\\pip install fast-barnes-py"
   ]
  },
  {
   "cell_type": "markdown",
   "metadata": {},
   "source": [
    "### Objective analysis - barnes"
   ]
  },
  {
   "cell_type": "code",
   "execution_count": 13,
   "metadata": {},
   "outputs": [
    {
     "name": "stdout",
     "output_type": "stream",
     "text": [
      "[ 32.256875 121.834429]\n",
      "0.005\n",
      "(2188, 2294)\n",
      "43.19687500000001 133.304429\n"
     ]
    }
   ],
   "source": [
    "#!pip install fast-barnes-py\n",
    "# definition of a 12Â° x 12Â° grid starting at 9Â°W / 47Â°N\n",
    "# resolution = 200.\n",
    "# step = 1.0 / resolution # 1도안에 넣을개수\n",
    "# x0 = np.asarray([lon_lat_data[0][0], lon_lat_data[0][1]], dtype=np.float64)\n",
    "# size = (int(2.0 / step), int(2.0 / step)) # 37~39, 127~129\n",
    "# Xend1 = x0[0] + (step*size[0])\n",
    "# Xend2 = x0[1] + (step*size[1])\n",
    "\n",
    "\n",
    "lat_dist = abs(lon_lat_data[:,0].min() - lon_lat_data[:,0].max())\n",
    "lon_dist = abs(lon_lat_data[:,1].min() - lon_lat_data[:,1].max())\n",
    "step = 0.005\n",
    "x0 = np.asarray([lon_lat_data[0][0], lon_lat_data[0][1]], dtype=np.float64)\n",
    "size = (int(lat_dist / step), int(lon_dist / step))\n",
    "x_e_lat = x0[0] + (step*size[0])\n",
    "x_e_lon = x0[1] + (step*size[1])\n",
    "print(x0)\n",
    "print(step)\n",
    "print(size)\n",
    "print(x_e_lat, x_e_lon)\n",
    "\n",
    "\n",
    "\n",
    "# calculate Barnes interpolation\n",
    "from fastbarnes import interpolation\n",
    "sigma = 1.0\n",
    "field = interpolation.barnes(lon_lat_data, qff_values, sigma, x0, step, size)\n",
    "#print(type(field))\n",
    "#print(np.round(field, 2))\n",
    "\n",
    "field.shape\n",
    "field_1 = np.where( (field<=20.) & (field>=-20.) , field, 0.)"
   ]
  },
  {
   "cell_type": "code",
   "execution_count": 14,
   "metadata": {},
   "outputs": [
    {
     "name": "stdout",
     "output_type": "stream",
     "text": [
      "0.0\n",
      "0.0\n"
     ]
    }
   ],
   "source": [
    "print(field_1.min())\n",
    "print(field_1.max())"
   ]
  },
  {
   "cell_type": "code",
   "execution_count": null,
   "metadata": {},
   "outputs": [],
   "source": [
    "# draw graphic with labeled contours and scattered sample points\n",
    "import matplotlib.pyplot as plt\n",
    "plt.figure(figsize=(5, 5))\n",
    "\n",
    "gridX = np.arange(x0[0], x0[0]+size[1]*step, step)\n",
    "gridY = np.arange(x0[1], x0[1]+size[0]*step, step)\n",
    "levels = np.arange(-20, 20, 1)\n",
    "cs = plt.contour(gridX, gridY, field, levels)\n",
    "plt.clabel(cs, levels[::2], fmt='%d', fontsize=9)\n",
    "\n",
    "#plt.scatter(lon_lat_data[:, 0], lon_lat_data[:, 1], color='red', s=20, marker='.')\n",
    "\n",
    "plt.show()"
   ]
  },
  {
   "cell_type": "code",
   "execution_count": null,
   "metadata": {},
   "outputs": [],
   "source": [
    "# input_data = np.asarray([\n",
    "#     [-3.73,56.33,995.1], [2.64,47.05,1012.5], [-8.40,47.50,1011.3], [2.94,54.33,1006.0], [-2.90,49.90,1006.3],\n",
    "#     [-8.98,53.72,1002.1], [1.20,58.60,1002.6], [1.60,50.73,1009.1], [-7.38,57.36,997.7], [-1.25,53.01,1000.4],\n",
    "#     [-4.74,52.79,998.4], [-0.61,47.48,1013.0], [-6.10,50.10,1004.3], [-6.46,54.87,996.4], [-3.22,47.29,1012.8],\n",
    "#     [-1.60,55.42,996.6], [2.30,56.60,1004.5], [1.12,52.95,1003.6], [-0.90,57.80,999.9], [-7.90,51.40,1002.6],\n",
    "#     [-0.70,50.10,1007.5], [2.53,49.02,1010.8], [-5.06,48.47,1008.5], [-3.10,53.60,997.5], [-5.63,57.86,997.8],\n",
    "#     [-6.90,52.85,1000.9], [-4.15,51.09,1002.6], [-1.99,51.50,1002.7], [1.21,47.68,1011.7], [-5.70,56.30,995.5],\n",
    "#     [-1.98,53.13,998.5], [1.09,49.93,1009.0], [1.72,58.42,1002.9], [-6.30,52.30,999.4], [0.70,57.70,1001.9],\n",
    "#     [-3.50,53.60,995.9], [1.38,48.06,1011.6], [-4.37,51.71,1001.1], [-3.09,58.45,998.5], [2.00,56.40,1003.9],\n",
    "#     [1.90,57.00,1003.3], [0.45,51.90,1004.9], [-8.25,51.80,1002.5], [-1.87,53.81,997.4], [-2.38,55.71,995.1],\n",
    "#     [-4.01,54.80,992.1], [0.88,53.37,1002.6], [-1.69,51.86,1002.1], [-4.57,52.14,999.6], [-0.20,58.40,1001.1],\n",
    "# ])\n",
    "\n",
    "# lon_lat_data = input_data[:, 0:2]\n",
    "# qff_values = input_data[:, 2]\n",
    "# input_data.shape\n",
    "\n",
    "# print(input_data[:,0].min())\n",
    "# print(input_data[:,0].max())\n",
    "# print(input_data[:,0].min() - input_data[:,0].max())\n",
    "# print(lon_lat_data[:,0])\n",
    "\n",
    "# # definition of a 12Â° x 12Â° grid starting at 9Â°W / 47Â°N\n",
    "# resolution = 32.0\n",
    "# step = 1.0 / resolution\n",
    "# x0 = np.asarray([-9.0, 47.0], dtype=np.float64)\n",
    "# size = (int(12.0 / step), int(12.0 / step))\n",
    "# Xend1 = x0[0] + (step*size[0])\n",
    "# Xend2 = x0[1] + (step*size[1])\n",
    "\n",
    "# print(x0)\n",
    "# print(step)\n",
    "# print(size)\n",
    "# print(Xend1, Xend2)\n",
    "\n",
    "# # calculate Barnes interpolation\n",
    "# from fastbarnes import interpolation\n",
    "# sigma = 1.0\n",
    "# field = interpolation.barnes(lon_lat_data, qff_values, sigma, x0, step, size)\n",
    "\n",
    "\n",
    "# # draw graphic with labeled contours and scattered sample points\n",
    "# import matplotlib.pyplot as plt\n",
    "# plt.figure(figsize=(5, 5))\n",
    "\n",
    "# gridX = np.arange(x0[0], x0[0]+size[1]*step, step)\n",
    "# gridY = np.arange(x0[1], x0[1]+size[0]*step, step)\n",
    "# levels = np.arange(976, 1026, 2)\n",
    "# cs = plt.contour(gridX, gridY, field, levels)\n",
    "# plt.clabel(cs, levels[::2], fmt='%d', fontsize=9)\n",
    "\n",
    "# plt.scatter(lon_lat_data[:, 0], lon_lat_data[:, 1], color='red', s=20, marker='.')\n",
    "\n",
    "# plt.show()"
   ]
  }
 ],
 "metadata": {
  "kernelspec": {
   "display_name": "Python 3",
   "language": "python",
   "name": "python3"
  },
  "language_info": {
   "codemirror_mode": {
    "name": "ipython",
    "version": 3
   },
   "file_extension": ".py",
   "mimetype": "text/x-python",
   "name": "python",
   "nbconvert_exporter": "python",
   "pygments_lexer": "ipython3",
   "version": "3.9.13"
  },
  "orig_nbformat": 4
 },
 "nbformat": 4,
 "nbformat_minor": 2
}
