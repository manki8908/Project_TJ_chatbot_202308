{
 "cells": [
  {
   "cell_type": "code",
   "execution_count": 1,
   "metadata": {},
   "outputs": [],
   "source": [
    "import numpy as np\n",
    "import pandas as pd\n",
    "from objective_anal import fastbarnes_run_1ele"
   ]
  },
  {
   "cell_type": "code",
   "execution_count": 10,
   "metadata": {},
   "outputs": [
    {
     "name": "stdout",
     "output_type": "stream",
     "text": [
      "nwp file=  D:\\KMK_DATA\\NWP\\l015_v070_erlo_unis_20kind.2023041000.nc\n",
      "obs_name=  ../fcst_wind/DAIO/obs_data_47105\n",
      "nwp_var=  UGRD_10maboveground\n",
      "obs_info=  [('47105', [37.7515, 128.891])]\n",
      "obs_var=  0\n",
      "run_time=  0\n",
      "Read nwp file:  D:\\KMK_DATA\\NWP\\l015_v070_erlo_unis_20kind.2023041000.nc\n",
      "var Min/Max:  -14.243284 9.999e+20\n",
      "lat shape:  (781, 602)\n",
      "lon shape:  (781, 602)\n",
      "32.256875000000015 42.93468114328637\n",
      "121.83442899999999 132.531874170454\n",
      "--- nwp read complete\n",
      "obs shape:  ()\n",
      "1.3\n",
      "sub lat:  (147, 117)\n",
      "sub lon:  (147, 117)\n",
      "sub nwp:  (147, 117)\n",
      "36.970163730580865 39.03152178341463\n",
      "126.97497790415062 129.0779151314157\n",
      "-6.090452 10.769899\n",
      "# analysis points:  17200\n",
      "lat, lon data:  (17200, 2)\n",
      "value:  (17200,)\n",
      "126.97497790415062 , 36.970163730580865\n",
      "129.0779151314157 , 39.03152178341463\n",
      "-6.090452194213867 10.769899368286133\n",
      "=== barnes setting\n",
      "start:  [127.  37.]\n",
      "lon dist:  2\n",
      "lat dist:  2\n",
      "step:  0.005\n",
      "oa dim:  (400, 400)\n",
      "end:  129.0 39.0\n",
      "=== field out\n",
      "(400, 400)\n",
      "-6.062169 10.755914\n",
      "nwp file=  D:\\KMK_DATA\\NWP\\l015_v070_erlo_unis_20kind.2023041000.nc\n",
      "obs_name=  ../fcst_wind/DAIO/obs_data_47105\n",
      "nwp_var=  VGRD_10maboveground\n",
      "obs_info=  [('47105', [37.7515, 128.891])]\n",
      "obs_var=  1\n",
      "run_time=  0\n",
      "Read nwp file:  D:\\KMK_DATA\\NWP\\l015_v070_erlo_unis_20kind.2023041000.nc\n",
      "var Min/Max:  -8.791781 9.999e+20\n",
      "lat shape:  (781, 602)\n",
      "lon shape:  (781, 602)\n",
      "32.256875000000015 42.93468114328637\n",
      "121.83442899999999 132.531874170454\n",
      "--- nwp read complete\n",
      "obs shape:  ()\n",
      "0.0\n",
      "sub lat:  (147, 117)\n",
      "sub lon:  (147, 117)\n",
      "sub nwp:  (147, 117)\n",
      "36.970163730580865 39.03152178341463\n",
      "126.97497790415062 129.0779151314157\n",
      "-3.9704924 11.457242\n",
      "# analysis points:  17200\n",
      "lat, lon data:  (17200, 2)\n",
      "value:  (17200,)\n",
      "126.97497790415062 , 36.970163730580865\n",
      "129.0779151314157 , 39.03152178341463\n",
      "-3.970492362976074 11.457242012023926\n",
      "=== barnes setting\n",
      "start:  [127.  37.]\n",
      "lon dist:  2\n",
      "lat dist:  2\n",
      "step:  0.005\n",
      "oa dim:  (400, 400)\n",
      "end:  129.0 39.0\n",
      "=== field out\n",
      "(400, 400)\n",
      "-3.8489294 11.415949\n"
     ]
    }
   ],
   "source": [
    "# nwp 오른쪽 끝 열에 _fillvalue 존재 --> sub area만 계산\n",
    "\n",
    "nwp_file = r\"D:\\KMK_DATA\\NWP\\l015_v070_erlo_unis_20kind.2023041000.nc\"\n",
    "var_list = {\"UGRD_10maboveground\": 0, \"VGRD_10maboveground\": 1}\n",
    "\n",
    "u_OA_field = u_OA_field = np.ndarray(shape=(400,400,2), dtype=np.float_)\n",
    "for i, (key, value) in enumerate(var_list.items()):\n",
    "    fb_run = fastbarnes_run_1ele(nwp_name=nwp_file, \n",
    "                                nwp_var=key, \n",
    "                                obs_name=\"../fcst_wind/DAIO/obs_data_47105\", \n",
    "                                obs_dict={\"47105\": [37.7515, 128.891]}, \n",
    "                                obs_var=value,  # 0: u, 1:v\n",
    "                                run_time=0) # 0: 0900 KST\n",
    "    # .. input read\n",
    "    fb_run.read_input()\n",
    "    # .. sub area\n",
    "    fb_run.extract_subarea(slat=37., elat=39., slon=127., elon=129.)\n",
    "    # .. return O.A value\n",
    "    field, gridX, gridY = fb_run.barnes_run()\n",
    "    u_OA_field[:,:,i]\n"
   ]
  },
  {
   "cell_type": "code",
   "execution_count": 6,
   "metadata": {},
   "outputs": [],
   "source": [
    "#!C:\\Users\\tjoeun\\AppData\\Local\\Programs\\Python\\Python39\\Scripts\\pip install fast-barnes-py"
   ]
  },
  {
   "cell_type": "code",
   "execution_count": 7,
   "metadata": {},
   "outputs": [
    {
     "ename": "NameError",
     "evalue": "name 'x0' is not defined",
     "output_type": "error",
     "traceback": [
      "\u001b[1;31m---------------------------------------------------------------------------\u001b[0m",
      "\u001b[1;31mNameError\u001b[0m                                 Traceback (most recent call last)",
      "Cell \u001b[1;32mIn[7], line 5\u001b[0m\n\u001b[0;32m      2\u001b[0m \u001b[39mimport\u001b[39;00m \u001b[39mmatplotlib\u001b[39;00m\u001b[39m.\u001b[39;00m\u001b[39mpyplot\u001b[39;00m \u001b[39mas\u001b[39;00m \u001b[39mplt\u001b[39;00m\n\u001b[0;32m      3\u001b[0m plt\u001b[39m.\u001b[39mfigure(figsize\u001b[39m=\u001b[39m(\u001b[39m5\u001b[39m, \u001b[39m5\u001b[39m))\n\u001b[1;32m----> 5\u001b[0m gridX \u001b[39m=\u001b[39m np\u001b[39m.\u001b[39marange(x0[\u001b[39m0\u001b[39m], x0[\u001b[39m0\u001b[39m]\u001b[39m+\u001b[39msize[\u001b[39m1\u001b[39m]\u001b[39m*\u001b[39mstep, step)\n\u001b[0;32m      6\u001b[0m gridY \u001b[39m=\u001b[39m np\u001b[39m.\u001b[39marange(x0[\u001b[39m1\u001b[39m], x0[\u001b[39m1\u001b[39m]\u001b[39m+\u001b[39msize[\u001b[39m0\u001b[39m]\u001b[39m*\u001b[39mstep, step)\n\u001b[0;32m      7\u001b[0m levels \u001b[39m=\u001b[39m np\u001b[39m.\u001b[39marange(\u001b[39m-\u001b[39m\u001b[39m3\u001b[39m, \u001b[39m3\u001b[39m, \u001b[39m0.1\u001b[39m)\n",
      "\u001b[1;31mNameError\u001b[0m: name 'x0' is not defined"
     ]
    },
    {
     "data": {
      "text/plain": [
       "<Figure size 500x500 with 0 Axes>"
      ]
     },
     "metadata": {},
     "output_type": "display_data"
    }
   ],
   "source": [
    "# draw graphic with labeled contours and scattered sample points\n",
    "import matplotlib.pyplot as plt\n",
    "plt.figure(figsize=(5, 5))\n",
    "\n",
    "gridX = np.arange(x0[0], x0[0]+size[1]*step, step)\n",
    "gridY = np.arange(x0[1], x0[1]+size[0]*step, step)\n",
    "levels = np.arange(-3, 3, 0.1)\n",
    "cs = plt.contour(gridX, gridY, field, levels)\n",
    "plt.clabel(cs, levels[::2], fmt='%d', fontsize=9)\n",
    "\n",
    "#plt.scatter(lon_lat_data[:, 0], lon_lat_data[:, 1], color='red', s=20, marker='.')\n",
    "\n",
    "plt.show()"
   ]
  }
 ],
 "metadata": {
  "kernelspec": {
   "display_name": "Python 3",
   "language": "python",
   "name": "python3"
  },
  "language_info": {
   "codemirror_mode": {
    "name": "ipython",
    "version": 3
   },
   "file_extension": ".py",
   "mimetype": "text/x-python",
   "name": "python",
   "nbconvert_exporter": "python",
   "pygments_lexer": "ipython3",
   "version": "3.9.13"
  },
  "orig_nbformat": 4
 },
 "nbformat": 4,
 "nbformat_minor": 2
}
