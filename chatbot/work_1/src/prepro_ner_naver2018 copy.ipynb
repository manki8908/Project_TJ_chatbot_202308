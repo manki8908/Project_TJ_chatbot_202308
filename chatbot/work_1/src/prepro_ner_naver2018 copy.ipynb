{
 "cells": [
  {
   "cell_type": "code",
   "execution_count": 1,
   "metadata": {},
   "outputs": [],
   "source": [
    "import pandas as pd\n",
    "import json\n",
    "\n",
    "\n",
    "\n",
    "# 동별 geo 데이터\n",
    "#geo_path = '../DABA/seoul-dong.geojson'\n",
    "ner_path = '../../DATA/NAVER_NLP_Challenge_2018/train_data.txt'\n",
    "\n",
    "# NE 가져오기\n",
    "# 가져와야할 정보\n",
    "mtn_sentences = []\n",
    "mtn_bios = []\n",
    "\n",
    "# 학습 파일 불러오기\n",
    "def read_file(file_name):\n",
    "    sents = []\n",
    "    with open(file_name, 'r', encoding='utf-8') as f:\n",
    "        lines = f.readlines()\n",
    "        this_sent = []\n",
    "        for i, l in enumerate(lines):\n",
    "            \n",
    "            if l == '\\n':\n",
    "                sents.append(this_sent)\n",
    "                this_sent = []\n",
    "            else:\n",
    "                this_sent.append(tuple(l.split()))\n",
    "            #this_sent.append(tuple(l.split()))\n",
    "    return sents\n",
    "\n",
    "test = read_file(ner_path)"
   ]
  },
  {
   "cell_type": "code",
   "execution_count": 2,
   "metadata": {},
   "outputs": [
    {
     "name": "stdout",
     "output_type": "stream",
     "text": [
      "[[('1', '비토리오', 'PER_B'), ('2', '양일', 'DAT_B'), ('3', '만에', '-'), ('4', '영사관', 'ORG_B'), ('5', '감호', 'CVL_B'), ('6', '용퇴,', '-'), ('7', '항룡', '-'), ('8', '압력설', '-'), ('9', '의심만', '-'), ('10', '가율', '-')], [('1', '이', '-'), ('2', '음경동맥의', '-'), ('3', '직경이', '-'), ('4', '8', 'NUM_B'), ('5', '19mm입니다', 'NUM_B'), ('6', '.', '-')], [('1', '9세이브로', 'NUM_B'), ('2', '구완', '-'), ('3', '30위인', 'NUM_B'), ('4', 'LG', 'ORG_B'), ('5', '박찬형은', 'PER_B'), ('6', '평균자책점이', '-'), ('7', '16.45로', 'NUM_B'), ('8', '준수한', '-'), ('9', '편이지만', '-'), ('10', '22⅓이닝', 'NUM_B'), ('11', '동안', '-'), ('12', '피홈런이', '-'), ('13', '31개나', 'NUM_B'), ('14', '된다', '-'), ('15', '.', '-')], [('1', '7승', 'NUM_B'), ('2', '25패는', 'NUM_B'), ('3', '상트페테르부르크가', 'LOC_B'), ('4', '역대', '-'), ('5', '월드리그에', 'EVT_B'), ('6', '출진한', '-'), ('7', '분별', '-'), ('8', '최선의', '-'), ('9', '성적이다', '-'), ('10', '.', '-')], [('1', '▲', '-'), ('2', '퍼거슨', 'PER_B'), ('3', '씨족의', 'CVL_B'), ('4', '꾀', '-')], [('1', '[유로2008]', 'EVT_B'), ('2', \"'공인구가\", 'CVL_B'), ('3', '변할', '-'), ('4', '기록', '-'), ('5', '시정조치는', 'CVL_B'), ('6', '죽을', '-'), ('7', '맛', '-'), ('8', '?', '-'), ('9', \"'\", '-')], [('1', '로마올림픽에서', 'EVT_B'), ('2', '육미지황탕', 'TRM_B'), ('3', '이남지역으로', 'TRM_I'), ('4', '동메달에', 'CVL_B'), ('5', '머문', '-'), ('6', '추경대는', 'PER_B'), ('7', '차년', 'DAT_B'), ('8', '파리오픈', 'EVT_B'), ('9', '결승전에서', 'EVT_I'), ('10', '진', '-'), ('11', '동영의', 'LOC_B'), ('12', '탄셰', 'PER_B'), ('13', '차우세스쿠를', 'PER_I'), ('14', '비롯해', '-'), ('15', '몽골의', 'LOC_B'), ('16', '이창동', 'PER_B'), ('17', '차간바,', 'PER_I'), ('18', '발보나의', 'LOC_B'), ('19', '리자루드', 'PER_B'), ('20', '박혜미셔', 'PER_I'), ('21', '좌타자를', 'CVL_B'), ('22', '놓고', '-'), ('23', '추축한다', '-'), ('24', '.', '-')], [('1', '금반', '-'), ('2', '명기', 'CVL_B'), ('3', '통합우승', 'CVL_I'), ('4', '24,', 'NUM_B'), ('5', '10회차는', 'NUM_I'), ('6', '8일', 'DAT_B'), ('7', '상오', 'TIM_B'), ('8', '6시', 'TIM_I'), ('9', '50분,', 'TIM_I'), ('10', '상오', 'TIM_B'), ('11', '11시', 'TIM_I'), ('12', '50분에', 'TIM_I'), ('13', '발태가', '-'), ('14', '끝마감되며,', '-'), ('15', '비공식', '-'), ('16', '적중결과는', '-'), ('17', '5일', 'DAT_B'), ('18', '공표된다', '-'), ('19', '.', '-')], [('1', '권뢰가', '-'), ('2', '있는', '-'), ('3', '곳에', '-'), ('4', '직경에', '-'), ('5', '따라', '-'), ('6', '달라지는데요', '-'), ('7', '.', '-')], [('1', '때로는은', '-'), ('2', '귀여운', '-'), ('3', '가스나기인', '-'), ('4', '비담,', '-'), ('5', '세상일에는', '-'), ('6', '무관심', '-'), ('7', '.', '-')]]\n"
     ]
    }
   ],
   "source": [
    "print(test[0:10])"
   ]
  },
  {
   "cell_type": "code",
   "execution_count": 3,
   "metadata": {},
   "outputs": [],
   "source": [
    "# 말뭉치 데이터에서 단어와 BIO 태그만 불러와 학습용 데이터셋 생성\n",
    "tags = []\n",
    "\n",
    "for t in test:\n",
    "\n",
    "    for w in t:\n",
    "\n",
    "        tags.append(w[2])"
   ]
  },
  {
   "cell_type": "code",
   "execution_count": 4,
   "metadata": {},
   "outputs": [],
   "source": [
    "df = pd.DataFrame(data={'bio_tag':tags})"
   ]
  },
  {
   "cell_type": "code",
   "execution_count": 5,
   "metadata": {},
   "outputs": [
    {
     "name": "stdout",
     "output_type": "stream",
     "text": [
      "<class 'pandas.core.frame.DataFrame'>\n",
      "RangeIndex: 1063571 entries, 0 to 1063570\n",
      "Data columns (total 1 columns):\n",
      " #   Column   Non-Null Count    Dtype \n",
      "---  ------   --------------    ----- \n",
      " 0   bio_tag  1063571 non-null  object\n",
      "dtypes: object(1)\n",
      "memory usage: 8.1+ MB\n"
     ]
    },
    {
     "data": {
      "text/html": [
       "<div>\n",
       "<style scoped>\n",
       "    .dataframe tbody tr th:only-of-type {\n",
       "        vertical-align: middle;\n",
       "    }\n",
       "\n",
       "    .dataframe tbody tr th {\n",
       "        vertical-align: top;\n",
       "    }\n",
       "\n",
       "    .dataframe thead th {\n",
       "        text-align: right;\n",
       "    }\n",
       "</style>\n",
       "<table border=\"1\" class=\"dataframe\">\n",
       "  <thead>\n",
       "    <tr style=\"text-align: right;\">\n",
       "      <th></th>\n",
       "      <th>bio_tag</th>\n",
       "    </tr>\n",
       "  </thead>\n",
       "  <tbody>\n",
       "    <tr>\n",
       "      <th>0</th>\n",
       "      <td>PER_B</td>\n",
       "    </tr>\n",
       "    <tr>\n",
       "      <th>1</th>\n",
       "      <td>DAT_B</td>\n",
       "    </tr>\n",
       "    <tr>\n",
       "      <th>2</th>\n",
       "      <td>-</td>\n",
       "    </tr>\n",
       "    <tr>\n",
       "      <th>3</th>\n",
       "      <td>ORG_B</td>\n",
       "    </tr>\n",
       "    <tr>\n",
       "      <th>4</th>\n",
       "      <td>CVL_B</td>\n",
       "    </tr>\n",
       "  </tbody>\n",
       "</table>\n",
       "</div>"
      ],
      "text/plain": [
       "  bio_tag\n",
       "0   PER_B\n",
       "1   DAT_B\n",
       "2       -\n",
       "3   ORG_B\n",
       "4   CVL_B"
      ]
     },
     "execution_count": 5,
     "metadata": {},
     "output_type": "execute_result"
    }
   ],
   "source": [
    "df.info()\n",
    "df.head()"
   ]
  },
  {
   "cell_type": "code",
   "execution_count": 6,
   "metadata": {},
   "outputs": [],
   "source": [
    "x = df.value_counts()"
   ]
  },
  {
   "cell_type": "code",
   "execution_count": 8,
   "metadata": {},
   "outputs": [
    {
     "name": "stdout",
     "output_type": "stream",
     "text": [
      "<class 'pandas.core.series.Series'>\n",
      "[('-',) ('CVL_B',) ('NUM_B',) ('PER_B',) ('ORG_B',) ('DAT_B',) ('LOC_B',)\n",
      " ('TRM_B',) ('EVT_B',) ('NUM_I',) ('DAT_I',) ('ANM_B',) ('EVT_I',)\n",
      " ('PER_I',) ('ORG_I',) ('AFW_B',) ('CVL_I',) ('TRM_I',) ('TIM_B',)\n",
      " ('FLD_B',) ('AFW_I',) ('TIM_I',) ('PLT_B',) ('MAT_B',) ('LOC_I',)\n",
      " ('ANM_I',) ('FLD_I',) ('MAT_I',) ('PLT_I',)]\n",
      "bio_tag\n",
      "-          729659\n",
      "CVL_B       57502\n",
      "NUM_B       56136\n",
      "PER_B       43034\n",
      "ORG_B       40860\n",
      "DAT_B       25837\n",
      "LOC_B       20881\n",
      "TRM_B       18695\n",
      "EVT_B       10982\n",
      "NUM_I        8740\n",
      "DAT_I        8107\n",
      "ANM_B        6486\n",
      "EVT_I        6448\n",
      "PER_I        5165\n",
      "ORG_I        4668\n",
      "AFW_B        4247\n",
      "CVL_I        3416\n",
      "TRM_I        3375\n",
      "TIM_B        3263\n",
      "FLD_B        2345\n",
      "AFW_I        1822\n",
      "TIM_I        1074\n",
      "PLT_B         264\n",
      "MAT_B         238\n",
      "LOC_I         211\n",
      "ANM_I          58\n",
      "FLD_I          41\n",
      "MAT_I          14\n",
      "PLT_I           3\n",
      "Name: count, dtype: int64\n"
     ]
    }
   ],
   "source": [
    "print(type(x))\n",
    "print(x.index.values)\n",
    "print(x)"
   ]
  },
  {
   "cell_type": "code",
   "execution_count": 25,
   "metadata": {},
   "outputs": [],
   "source": [
    "# make tag dic\n",
    "\n",
    "#df = pd.DataFrame()\n",
    "a = {}\n",
    "for i, tag in enumerate(x.index.values):\n",
    "    a[i+1] = tag[0]\n",
    "a[0] = 'PAD'"
   ]
  },
  {
   "cell_type": "code",
   "execution_count": 26,
   "metadata": {},
   "outputs": [
    {
     "name": "stdout",
     "output_type": "stream",
     "text": [
      "{1: '-', 2: 'CVL_B', 3: 'NUM_B', 4: 'PER_B', 5: 'ORG_B', 6: 'DAT_B', 7: 'LOC_B', 8: 'TRM_B', 9: 'EVT_B', 10: 'NUM_I', 11: 'DAT_I', 12: 'ANM_B', 13: 'EVT_I', 14: 'PER_I', 15: 'ORG_I', 16: 'AFW_B', 17: 'CVL_I', 18: 'TRM_I', 19: 'TIM_B', 20: 'FLD_B', 21: 'AFW_I', 22: 'TIM_I', 23: 'PLT_B', 24: 'MAT_B', 25: 'LOC_I', 26: 'ANM_I', 27: 'FLD_I', 28: 'MAT_I', 29: 'PLT_I', 0: 'PAD'}\n"
     ]
    }
   ],
   "source": [
    "print(a)"
   ]
  }
 ],
 "metadata": {
  "kernelspec": {
   "display_name": "Python 3",
   "language": "python",
   "name": "python3"
  },
  "language_info": {
   "codemirror_mode": {
    "name": "ipython",
    "version": 3
   },
   "file_extension": ".py",
   "mimetype": "text/x-python",
   "name": "python",
   "nbconvert_exporter": "python",
   "pygments_lexer": "ipython3",
   "version": "3.9.13"
  },
  "orig_nbformat": 4
 },
 "nbformat": 4,
 "nbformat_minor": 2
}
