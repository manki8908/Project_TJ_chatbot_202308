{
 "cells": [
  {
   "cell_type": "markdown",
   "metadata": {},
   "source": [
    "#### 사례 예측 - 객관분석 - 알람 - 플로팅 처리 python"
   ]
  },
  {
   "cell_type": "markdown",
   "metadata": {},
   "source": [
    "0. 수행 데이터 로드"
   ]
  },
  {
   "cell_type": "code",
   "execution_count": 3,
   "metadata": {},
   "outputs": [
    {
     "name": "stdout",
     "output_type": "stream",
     "text": [
      "================================================== load data shape\n",
      "(868, 49, 20)\n",
      "(868, 49, 2)\n",
      "================================================== split data shape\n",
      "(109, 49, 20)\n",
      "(109, 49, 2)\n",
      "(61, 49, 20)\n",
      "(61, 49, 2)\n",
      "결측 합계:  1\n",
      "결측 index= [23]\n",
      "shape of after drop\n",
      "(108, 49, 20)\n",
      "(108, 49, 2)\n",
      "결측 합계:  5\n",
      "결측 index= [16, 17, 18, 19, 15]\n",
      "test_nwp missing\n",
      "[[nan nan nan nan nan nan nan nan nan nan nan nan nan nan nan nan nan nan\n",
      "  nan nan nan nan nan nan nan nan nan nan nan nan nan nan nan nan nan nan\n",
      "  nan nan nan nan nan nan nan nan nan nan nan nan nan]\n",
      " [nan nan nan nan nan nan nan nan nan nan nan nan nan nan nan nan nan nan\n",
      "  nan nan nan nan nan nan nan nan nan nan nan nan nan nan nan nan nan nan\n",
      "  nan nan nan nan nan nan nan nan nan nan nan nan nan]\n",
      " [nan nan nan nan nan nan nan nan nan nan nan nan nan nan nan nan nan nan\n",
      "  nan nan nan nan nan nan nan nan nan nan nan nan nan nan nan nan nan nan\n",
      "  nan nan nan nan nan nan nan nan nan nan nan nan nan]\n",
      " [nan nan nan nan nan nan nan nan nan nan nan nan nan nan nan nan nan nan\n",
      "  nan nan nan nan nan nan nan nan nan nan nan nan nan nan nan nan nan nan\n",
      "  nan nan nan nan nan nan nan nan nan nan nan nan nan]\n",
      " [nan nan nan nan nan nan nan nan nan nan nan nan nan nan nan nan nan nan\n",
      "  nan nan nan nan nan nan nan nan nan nan nan nan nan nan nan nan nan nan\n",
      "  nan nan nan nan nan nan nan nan nan nan nan nan nan]]\n",
      "test_obs missing\n",
      "[[ 2.9   3.7   3.3   3.19  2.07  1.97 -0.    1.03  2.4   2.26  3.29  2.16\n",
      "   1.03  3.1   2.44  0.64  1.9   2.4  -0.58 -0.    1.09  1.6   1.97  1.41\n",
      "   0.94  1.5  -0.48 -0.38 -1.5  -1.99 -1.61 -1.4  -0.84  2.82  3.2   2.07\n",
      "   2.54  2.7   2.35  2.6   2.5   2.54  2.73  2.82  3.29  2.73  2.26  2.07\n",
      "   2.8 ]\n",
      " [ 0.94  1.5  -0.48 -0.38 -1.5  -1.99 -1.61 -1.4  -0.84  2.82  3.2   2.07\n",
      "   2.54  2.7   2.35  2.6   2.5   2.54  2.73  2.82  3.29  2.73  2.26  2.07\n",
      "   2.8   2.73  2.91  3.    2.3   3.5   4.5   4.5   4.2   2.3   1.9   0.44\n",
      "  -0.    2.07  0.77 -1.09  1.03 -0.41  2.5   2.6   2.35  5.36  1.86  2.91\n",
      "   3.48]\n",
      " [ 2.8   2.73  2.91  3.    2.3   3.5   4.5   4.5   4.2   2.3   1.9   0.44\n",
      "  -0.    2.07  0.77 -1.09  1.03 -0.41  2.5   2.6   2.35  5.36  1.86  2.91\n",
      "   3.48  3.95  3.19  3.01  4.4   4.04  3.76  3.29  3.6   3.8   3.38  3.29\n",
      "   3.85  3.7   4.5   3.8   3.6   2.9   3.8   4.5   5.1   3.6   2.5   3.4\n",
      "   2.7 ]\n",
      " [ 3.48  3.95  3.19  3.01  4.4   4.04  3.76  3.29  3.6   3.8   3.38  3.29\n",
      "   3.85  3.7   4.5   3.8   3.6   2.9   3.8   4.5   5.1   3.6   2.5   3.4\n",
      "   2.7   2.3   3.9   2.9   3.1   2.8   2.35  3.9   2.1   1.6   1.69  2.5\n",
      "   3.    1.5   2.07  2.07  2.26  2.44  2.07  3.1   3.38  2.73  2.63  2.63\n",
      "   1.4 ]\n",
      " [ 2.35  3.3   3.5   3.3   3.3   2.9   3.4   3.    2.91  2.8   3.5   3.5\n",
      "   3.5   3.4   2.6   2.35  2.44  2.3   2.26  2.35  2.6   3.7   3.6   2.9\n",
      "   2.9   3.7   3.3   3.19  2.07  1.97 -0.    1.03  2.4   2.26  3.29  2.16\n",
      "   1.03  3.1   2.44  0.64  1.9   2.4  -0.58 -0.    1.09  1.6   1.97  1.41\n",
      "   0.94]]\n",
      "shape of after drop\n",
      "(56, 49, 20)\n",
      "(56, 49, 2)\n",
      "================================================== drop data shape\n",
      "(108, 48, 6)\n",
      "(108, 48, 2)\n",
      "(56, 48, 6)\n",
      "(56, 48, 2)\n",
      "(48, 6)\n",
      "(48, 2)\n",
      "(49, 781, 602)\n",
      "(49, 781, 602)\n"
     ]
    }
   ],
   "source": [
    "import Ngl,Nio\n",
    "import numpy as np\n",
    "import pandas as pd\n",
    "import sys\n",
    "#sys.path.insert(0, '/Users/mankikim/JOB/prj_mtn2/fcst_wind/MODL/INC/')\n",
    "from data_load import data_load\n",
    "\n",
    "\n",
    "anal_time='2023041009' # KST \n",
    "\n",
    "\n",
    "data_name_tsnwp = '/Users/mankikim/JOB/prj_mtn2/fcst_wind/DAIO/nwp_data_47105'\n",
    "data_name_tsobs = '/Users/mankikim/JOB/prj_mtn2/fcst_wind/DAIO/obs_data_47105'\n",
    "data_name_grnwp = \"/Users/mankikim/Desktop/DATA_LINK/l015_v070_erlo_unis_20kind.2023041000.nc\"\n",
    "\n",
    "# 시계열 데이터\n",
    "_, sel_dm_nwp_test, _, dm_obs_test = data_load(data_name_tsnwp, data_name_tsobs)\n",
    "tsnwp = sel_dm_nwp_test[22,:,:]\n",
    "tsobs = dm_obs_test[22,:,:]\n",
    "print(tsnwp.shape)\n",
    "print(tsobs.shape)\n",
    "\n",
    "#--  open file\n",
    "f = Nio.open_file(data_name_grnwp, \"r\")\n",
    "u = f.variables[\"UGRD_10maboveground\"][:,:,:]\n",
    "v = f.variables[\"VGRD_10maboveground\"][:,:,:]\n",
    "lat = f.variables[\"latitude\"]\n",
    "lon = f.variables[\"longitude\"]\n",
    "print(u.shape)\n",
    "print(v.shape)\n",
    "\n"
   ]
  },
  {
   "cell_type": "markdown",
   "metadata": {},
   "source": [
    "1. TCN 예측"
   ]
  },
  {
   "cell_type": "code",
   "execution_count": 2,
   "metadata": {},
   "outputs": [],
   "source": [
    "#!pip install joblib\n",
    "#!pip install -U scikit-learn"
   ]
  },
  {
   "cell_type": "code",
   "execution_count": 4,
   "metadata": {},
   "outputs": [
    {
     "name": "stdout",
     "output_type": "stream",
     "text": [
      "load data shape before prediction:  48 6\n"
     ]
    }
   ],
   "source": [
    "import joblib\n",
    "\n",
    "# load scaler\n",
    "nwp_scaler = joblib.load('nwp_sclr_var6_e1000_bs8_lr0.009_nf85_pdsame_ks3_dr0.07_dl4_ns1_2101_2104_2201_2204_47105.pkl')\n",
    "obs_scaler = joblib.load('obs_sclr_var6_e1000_bs8_lr0.009_nf85_pdsame_ks3_dr0.07_dl4_ns1_2101_2104_2201_2204_47105.pkl')\n",
    "\n",
    "\n",
    "# .. load data\n",
    "s, f = tsnwp.shape\n",
    "print ( \"load data shape before prediction: \", s, f )\n",
    "# .. normalize\n",
    "nor_test_x = nwp_scaler.transform(tsnwp.reshape(1*s,f))\n",
    "nor_test_x = nor_test_x.reshape(1,s,f)\n",
    "\n",
    "\n"
   ]
  },
  {
   "cell_type": "code",
   "execution_count": 4,
   "metadata": {},
   "outputs": [],
   "source": [
    "#!pip install tensorflow\n",
    "#!pip install keras-tcn"
   ]
  },
  {
   "cell_type": "code",
   "execution_count": null,
   "metadata": {},
   "outputs": [],
   "source": [
    "#!pip install keras-tcn"
   ]
  },
  {
   "cell_type": "code",
   "execution_count": 5,
   "metadata": {},
   "outputs": [
    {
     "name": "stderr",
     "output_type": "stream",
     "text": [
      "2023-08-25 15:17:36.918820: I tensorflow/core/platform/cpu_feature_guard.cc:182] This TensorFlow binary is optimized to use available CPU instructions in performance-critical operations.\n",
      "To enable the following instructions: AVX2 FMA, in other operations, rebuild TensorFlow with the appropriate compiler flags.\n"
     ]
    },
    {
     "name": "stdout",
     "output_type": "stream",
     "text": [
      "load_model:  ./tcn_modl_var6_e1000_bs8_lr0.009_nf85_pdsame_ks3_dr0.07_dl4_ns1_2101_2104_2201_2204_47105.h5\n",
      "1/1 [==============================] - 1s 660ms/step\n",
      "(1, 48, 2)\n"
     ]
    }
   ],
   "source": [
    "#-------------------------------------------------------------------------\n",
    "# .. Model load\n",
    "\n",
    "from tensorflow.keras.models import load_model\n",
    "from tcn import TCN\n",
    "\n",
    "#model_name = \"../MODL/DAOU/MODL/CNTL/tcn_modl_var6_e1000_bs8_lr0.009_nf87_pdsame_ks6_dr0.07_dl48_ns1_2101_2104_2201_2204_47105.h5\"\n",
    "\n",
    "#hyper band\n",
    "model_name = \"./tcn_modl_var6_e1000_bs8_lr0.009_nf85_pdsame_ks3_dr0.07_dl4_ns1_2101_2104_2201_2204_47105.h5\"\n",
    "\n",
    "#bayesian\n",
    "#model_name = \"../MODL/DAOU/MODL/CNTL/tcn_modl_var6_e1000_bs8_lr0.009_nf95_pdsame_ks3_dr0.07_dl4_ns1_2101_2104_2201_2204_47105.h5\"\n",
    "\n",
    "print (\"load_model: \", model_name)\n",
    "model = load_model(model_name, custom_objects={'TCN':TCN} )\n",
    "\n",
    "\n",
    "nor_pred_test_y = model.predict(nor_test_x)\n",
    "inv_pred_test = obs_scaler.inverse_transform(nor_pred_test_y.reshape(1*s, 2))\n",
    "inv_pred_test = inv_pred_test.reshape(1,s, 2)\n",
    "print(inv_pred_test.shape)"
   ]
  },
  {
   "cell_type": "markdown",
   "metadata": {},
   "source": [
    "* Objective analysis"
   ]
  },
  {
   "cell_type": "code",
   "execution_count": null,
   "metadata": {},
   "outputs": [],
   "source": [
    "#!pip install netCDF4\n",
    "#!pip install matplotlib\n",
    "#!pip install fast-barnes-py"
   ]
  },
  {
   "cell_type": "code",
   "execution_count": 6,
   "metadata": {},
   "outputs": [
    {
     "name": "stdout",
     "output_type": "stream",
     "text": [
      "nwp file=  /Users/mankikim/Desktop/DATA_LINK/l015_v070_erlo_unis_20kind.2023041000.nc\n",
      "obs_name=  /Users/mankikim/JOB/prj_mtn2/fcst_wind/DAIO/obs_data_47105\n",
      "nwp_var=  UGRD_10maboveground\n",
      "obs_info=  [('47105', [37.7515, 128.891])]\n",
      "obs_var=  0\n",
      "run_time=  22\n",
      "Read nwp file:  /Users/mankikim/Desktop/DATA_LINK/l015_v070_erlo_unis_20kind.2023041000.nc\n",
      "var Min/Max:  -15.952724 9.999e+20\n",
      "lat shape:  (781, 602)\n",
      "lon shape:  (781, 602)\n",
      "32.256875000000015 42.93468114328637\n",
      "121.83442899999999 132.531874170454\n",
      "--- nwp read complete\n",
      "obs shape:  ()\n",
      "1.53\n",
      "sub lat:  (147, 117)\n",
      "sub lon:  (147, 117)\n",
      "sub nwp:  (147, 117)\n",
      "36.970163730580865 39.03152178341463\n",
      "126.97497790415062 129.0779151314157\n",
      "-15.952724 19.129307\n",
      "# analysis points:  17200\n",
      "lat, lon data:  (17200, 2)\n",
      "value:  (17200,)\n",
      "126.97497790415062 , 36.970163730580865\n",
      "129.0779151314157 , 39.03152178341463\n",
      "-15.95272445678711 19.12930679321289\n",
      "=== barnes setting\n",
      "start:  [127.  37.]\n",
      "lon dist:  2\n",
      "lat dist:  2\n",
      "step:  0.005\n",
      "oa dim:  (400, 400)\n",
      "end:  129.0 39.0\n",
      "=== field out\n",
      "field shape:  (400, 400)\n",
      "gridX shape:  (400,)\n",
      "gridY shape:  (400,)\n",
      "-15.882788 19.076187\n",
      "nwp file=  /Users/mankikim/Desktop/DATA_LINK/l015_v070_erlo_unis_20kind.2023041000.nc\n",
      "obs_name=  /Users/mankikim/JOB/prj_mtn2/fcst_wind/DAIO/obs_data_47105\n",
      "nwp_var=  VGRD_10maboveground\n",
      "obs_info=  [('47105', [37.7515, 128.891])]\n",
      "obs_var=  1\n",
      "run_time=  22\n",
      "Read nwp file:  /Users/mankikim/Desktop/DATA_LINK/l015_v070_erlo_unis_20kind.2023041000.nc\n",
      "var Min/Max:  -9.06818 9.999e+20\n",
      "lat shape:  (781, 602)\n",
      "lon shape:  (781, 602)\n",
      "32.256875000000015 42.93468114328637\n",
      "121.83442899999999 132.531874170454\n",
      "--- nwp read complete\n",
      "obs shape:  ()\n",
      "1.29\n",
      "sub lat:  (147, 117)\n",
      "sub lon:  (147, 117)\n",
      "sub nwp:  (147, 117)\n",
      "36.970163730580865 39.03152178341463\n",
      "126.97497790415062 129.0779151314157\n",
      "-8.154606 19.05096\n",
      "# analysis points:  17200\n",
      "lat, lon data:  (17200, 2)\n",
      "value:  (17200,)\n",
      "126.97497790415062 , 36.970163730580865\n",
      "129.0779151314157 , 39.03152178341463\n",
      "-8.154605865478516 19.050960540771484\n",
      "=== barnes setting\n",
      "start:  [127.  37.]\n",
      "lon dist:  2\n",
      "lat dist:  2\n",
      "step:  0.005\n",
      "oa dim:  (400, 400)\n",
      "end:  129.0 39.0\n",
      "=== field out\n",
      "field shape:  (400, 400)\n",
      "gridX shape:  (400,)\n",
      "gridY shape:  (400,)\n",
      "-8.111799 19.027037\n"
     ]
    }
   ],
   "source": [
    "# nwp 오른쪽 끝 열에 _fillvalue 존재 --> sub area만 계산\n",
    "from objective_anal import fastbarnes_run_1ele\n",
    "\n",
    "#nwp_file = r\"D:\\KMK_DATA\\NWP\\l015_v070_erlo_unis_20kind.2023041000.nc\"\n",
    "nwp_file = \"/Users/mankikim/Desktop/DATA_LINK/l015_v070_erlo_unis_20kind.2023041000.nc\"\n",
    "var_list = {\"UGRD_10maboveground\": 0, \"VGRD_10maboveground\": 1}\n",
    "stn_info = {\"47105\": [37.7515, 128.891]}\n",
    "\n",
    "uv_OA_field = u_OA_field = np.ndarray(shape=(400,400,2), dtype=np.float_)\n",
    "for i, (key, value) in enumerate(var_list.items()):\n",
    "    fb_run = fastbarnes_run_1ele(nwp_name=nwp_file, \n",
    "                                nwp_var=key, \n",
    "                                obs_name=\"/Users/mankikim/JOB/prj_mtn2/fcst_wind/DAIO/obs_data_47105\", \n",
    "                                obs_dict=stn_info, \n",
    "                                obs_var=value,  # 0: u, 1:v\n",
    "                                run_time=22) # 0: 0900 KST\n",
    "    # .. input read\n",
    "    fb_run.read_input()\n",
    "    # .. sub area\n",
    "    fb_run.extract_subarea(slat=37., elat=39., slon=127., elon=129.)\n",
    "    # .. return O.A value\n",
    "    field, gridX, gridY = fb_run.barnes_run()\n",
    "    u_OA_field[:,:,i] = field\n",
    "\n",
    "# write 하면서 좌우 반전이 생긴것 같음 i,j 살펴보기\n",
    "#u_OA_field = u_OA_field.swapaxes(0,1)\n",
    "f = open('./uv_OA_field_test', 'w')\n",
    "for j in range(len(gridY)):\n",
    "    for i in range(len(gridX)):\n",
    "        print(j,i,gridY[j],gridX[i],u_OA_field[j,i,0], u_OA_field[j,i,1], sep=',', file=f)\n",
    "        #print(j,i,gridY[j],gridX[i],u_OA_field[i,j,0], u_OA_field[i,j,1], sep=',', file=f)\n",
    "f.close()\n",
    "\n",
    "np.savez( \"./uv_OA_field_test\", value=uv_OA_field, stn_info=stn_info, gridX=gridX, gridY=gridY)"
   ]
  }
 ],
 "metadata": {
  "kernelspec": {
   "display_name": "Python 3",
   "language": "python",
   "name": "python3"
  },
  "language_info": {
   "codemirror_mode": {
    "name": "ipython",
    "version": 3
   },
   "file_extension": ".py",
   "mimetype": "text/x-python",
   "name": "python",
   "nbconvert_exporter": "python",
   "pygments_lexer": "ipython3",
   "version": "3.8.17"
  },
  "orig_nbformat": 4
 },
 "nbformat": 4,
 "nbformat_minor": 2
}
