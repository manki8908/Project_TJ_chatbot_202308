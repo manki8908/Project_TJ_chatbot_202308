{
 "cells": [
  {
   "cell_type": "code",
   "execution_count": null,
   "metadata": {},
   "outputs": [],
   "source": [
    "import pandas as pd\n",
    "import json\n",
    "\n",
    "\n",
    "\n",
    "# 동별 geo 데이터\n",
    "#geo_path = '../DABA/seoul-dong.geojson'\n",
    "ner_path = '../../DATA/NIKL_NE_2022_v1.0/MXNE2202211218.json'\n",
    "try: \n",
    "    df_ner= json.load(open(ner_path, encoding='utf-8'))\n",
    "except:\n",
    "    df_ner= json.load(open(ner_path, econding='utf-8-sig'))   # return dict\n",
    "\n",
    "df_ner.keys()\n",
    "df_ner\n",
    "#df_geo['features'][0]\n",
    "\n",
    "# NE 가져오기\n",
    "# 가져와야할 정보\n",
    "mtn_sentences = []\n",
    "mtn_bios = []\n",
    "\n",
    "for dialog in df_ner['document'][:]:\n",
    "#for dialog in df_ner['document'][0]:\n",
    "    for sentences in dialog['sentence'][:]:\n",
    "        mtn_sentence = []\n",
    "        mtn_bio = []\n",
    "        print(\"문장\", \"=\"*50)\n",
    "        print(sentences)\n",
    "        if len(sentences['NE']) != 0:\n",
    "            for i in sentences['NE']: \n",
    "                #print(\"NE\", \"=\"*30)\n",
    "                #print(i)\n",
    "                #if i != []:\n",
    "                mtn_sentence.append(i['form'])\n",
    "                mtn_bio.append(i['label'])\n",
    "                    #mtn_bio.append(i['label'][0:2])\n",
    "            mtn_sentences.append(mtn_sentence)\n",
    "            mtn_bios.append(mtn_bio)"
   ]
  },
  {
   "cell_type": "code",
   "execution_count": 8,
   "metadata": {},
   "outputs": [
    {
     "name": "stdout",
     "output_type": "stream",
     "text": [
      "102266\n",
      "102266\n",
      "[['치킨'], ['뿌링클'], ['일요일'], ['일요일'], ['삼국유사'], ['토요일만'], ['주말'], ['밥'], ['토요일날'], ['일요일']]\n",
      "[['CV_FOOD'], ['CV_FOOD'], ['DT_DAY'], ['DT_DAY'], ['AFA_DOCUMENT'], ['DT_DAY'], ['DT_DURATION'], ['CV_FOOD'], ['DT_DAY'], ['DT_DAY']]\n"
     ]
    }
   ],
   "source": [
    "print(len(mtn_sentences))\n",
    "print(len(mtn_bios))\n",
    "\n",
    "print(mtn_sentences[0:10])\n",
    "print(mtn_bios[0:10])"
   ]
  }
 ],
 "metadata": {
  "kernelspec": {
   "display_name": "Python 3",
   "language": "python",
   "name": "python3"
  },
  "language_info": {
   "codemirror_mode": {
    "name": "ipython",
    "version": 3
   },
   "file_extension": ".py",
   "mimetype": "text/x-python",
   "name": "python",
   "nbconvert_exporter": "python",
   "pygments_lexer": "ipython3",
   "version": "3.8.7"
  },
  "orig_nbformat": 4
 },
 "nbformat": 4,
 "nbformat_minor": 2
}
