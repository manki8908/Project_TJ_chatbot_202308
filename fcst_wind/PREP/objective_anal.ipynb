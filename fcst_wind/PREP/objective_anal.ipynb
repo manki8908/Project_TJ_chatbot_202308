{
 "cells": [
  {
   "cell_type": "code",
   "execution_count": 2,
   "metadata": {},
   "outputs": [],
   "source": [
    "import numpy as np\n",
    "import pandas as pd"
   ]
  },
  {
   "cell_type": "markdown",
   "metadata": {},
   "source": [
    "### data load"
   ]
  },
  {
   "cell_type": "code",
   "execution_count": 33,
   "metadata": {},
   "outputs": [
    {
     "name": "stdout",
     "output_type": "stream",
     "text": [
      "(49, 781, 602)\n",
      "(781, 602)\n",
      "(781, 602)\n",
      "(868, 48, 2)\n"
     ]
    }
   ],
   "source": [
    "import numpy as np\n",
    "import netCDF4 as nc\n",
    "import glob\n",
    "\n",
    "# nwp grid, stn(bias corrected) load, here example use obs data instead of bias corrected nwp\n",
    "# nwp grid\n",
    "input_dir = \"/Users/mankikim/JOB/DATA/\"\n",
    "files = glob.glob(input_dir + \"*.nc\")\n",
    "nwp_grd_u = np.array(nc.Dataset(files[-1]).variables['UGRD_10maboveground'])\n",
    "print(nwp_grd_u.shape)\n",
    "\n",
    "nwp_lat = np.load(\"../DAIO/nwp/ldaps_lat_grid\")\n",
    "nwp_lon = np.load(\"../DAIO/nwp/ldaps_lon_grid\")\n",
    "print(nwp_lat.shape)\n",
    "print(nwp_lon.shape)\n",
    "\n",
    "# # check diff\n",
    "# dif_ll = []\n",
    "# #for i in range(nwp_lon.shape[0]):\n",
    "# #    for j in range(nwp_lon.shape[1]-1):\n",
    "# for i in range(100):\n",
    "#     for j in range(100):\n",
    "#         dif_ll.append( np.round(nwp_lon[i,j+1] - nwp_lon[i,j], 5))\n",
    "# print(set(dif_ll))\n",
    "\n",
    "# obs stn\n",
    "obs_stnd = np.load(\"../DAIO/obs/merge/obs_data\")\n",
    "print(obs_stnd.shape)\n",
    "\n",
    "\n",
    "# select U & V\n",
    "#if sel_v == 'u':\n",
    "#    nwp_grid[:,:,0]"
   ]
  },
  {
   "cell_type": "markdown",
   "metadata": {},
   "source": [
    "### make for input format"
   ]
  },
  {
   "cell_type": "markdown",
   "metadata": {},
   "source": [
    "### Objective analysis(barnes)"
   ]
  },
  {
   "cell_type": "code",
   "execution_count": null,
   "metadata": {},
   "outputs": [],
   "source": [
    "\n",
    "\n",
    "#  1d_var = [[ lat,lon,feature ]]    grid + stn for specified grid(500m*500m)\n",
    "input_data =\n",
    "\n",
    "# extract attribute \n",
    "lon_lat_data = input_data[:, 0:2]\n",
    "qff_values = input_data[:, 2]"
   ]
  },
  {
   "cell_type": "code",
   "execution_count": null,
   "metadata": {},
   "outputs": [],
   "source": [
    "# definition of a 12Â° x 12Â° grid starting at 9Â°W / 47Â°N\n",
    "resolution = 32.0\n",
    "step = 1.0 / resolution\n",
    "x0 = np.asarray([-9.0, 47.0], dtype=np.float64)\n",
    "size = (int(12.0 / step), int(12.0 / step))\n",
    "\n",
    "# calculate Barnes interpolation\n",
    "from fastbarnes import interpolation\n",
    "sigma = 1.0\n",
    "field = interpolation.barnes(lon_lat_data, qff_values, sigma, x0, step, size)"
   ]
  }
 ],
 "metadata": {
  "kernelspec": {
   "display_name": "Python 3",
   "language": "python",
   "name": "python3"
  },
  "language_info": {
   "codemirror_mode": {
    "name": "ipython",
    "version": 3
   },
   "file_extension": ".py",
   "mimetype": "text/x-python",
   "name": "python",
   "nbconvert_exporter": "python",
   "pygments_lexer": "ipython3",
   "version": "3.8.16"
  },
  "orig_nbformat": 4
 },
 "nbformat": 4,
 "nbformat_minor": 2
}
