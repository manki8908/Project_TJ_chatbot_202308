{
 "cells": [
  {
   "cell_type": "code",
   "execution_count": 1,
   "metadata": {},
   "outputs": [],
   "source": [
    "import numpy as np\n",
    "import pandas as pd"
   ]
  },
  {
   "cell_type": "markdown",
   "metadata": {},
   "source": [
    "### data load"
   ]
  },
  {
   "cell_type": "code",
   "execution_count": 33,
   "metadata": {},
   "outputs": [
    {
     "name": "stdout",
     "output_type": "stream",
     "text": [
      "nwp_u:  (49, 781, 602)\n",
      "nwp_v:  (49, 781, 602)\n",
      "(781, 602)\n",
      "(781, 602)\n",
      "dif lon:  {0.016}\n",
      "dif lat:  {0.014}\n",
      "(868, 48, 2)\n"
     ]
    }
   ],
   "source": [
    "import numpy as np\n",
    "import netCDF4 as nc\n",
    "import glob\n",
    "\n",
    "# nwp grid, stn(bias corrected) load, here example use obs data instead of bias corrected nwp\n",
    "# nwp grid\n",
    "#input_dir = \"/Users/mankikim/JOB/DATA/\"\n",
    "input_dir = \"D:/KMK_DATA/NWP/\"\n",
    "files = glob.glob(input_dir + \"*.nc\")\n",
    "nwp_grd_u = np.array(nc.Dataset(files[-1]).variables['UGRD_10maboveground'])\n",
    "nwp_grd_v = np.array(nc.Dataset(files[-1]).variables['VGRD_10maboveground'])\n",
    "print(\"nwp_u: \", nwp_grd_u.shape)\n",
    "print(\"nwp_v: \", nwp_grd_u.shape)\n",
    "\n",
    "\n",
    "nwp_lat = np.load(\"../DAIO/nwp/ldaps_lat_grid\")\n",
    "nwp_lon = np.load(\"../DAIO/nwp/ldaps_lon_grid\")\n",
    "print(nwp_lat.shape)\n",
    "print(nwp_lon.shape)\n",
    "\n",
    "# check diff --> 4째자리부터 차이 있음\n",
    "dif_lon = []\n",
    "dif_lat = []\n",
    "#for i in range(nwp_lon.shape[0]):\n",
    "#    for j in range(nwp_lon.shape[1]-1):\n",
    "for i in range(100):\n",
    "    for j in range(100):\n",
    "        dif_lon.append( np.round(nwp_lon[i,j+1] - nwp_lon[i,j], 3))\n",
    "        dif_lat.append( np.round(nwp_lat[i+1,j] - nwp_lat[i,j], 3))\n",
    "print(\"dif lon: \", set(dif_lon))\n",
    "print(\"dif lat: \", set(dif_lat))\n",
    "\n",
    "# obs stn for 불규칙 데이터\n",
    "obs_stnd = np.load(\"../DAIO/obs/merge/obs_data\")\n",
    "print(obs_stnd.shape)\n",
    "\n",
    "\n",
    "# select U & V\n",
    "#if sel_v == 'u':\n",
    "#    nwp_grid[:,:,0]"
   ]
  },
  {
   "cell_type": "markdown",
   "metadata": {},
   "source": [
    "### make for input format"
   ]
  },
  {
   "cell_type": "markdown",
   "metadata": {},
   "source": [
    "### Objective analysis(barnes)"
   ]
  },
  {
   "cell_type": "code",
   "execution_count": 7,
   "metadata": {},
   "outputs": [
    {
     "name": "stdout",
     "output_type": "stream",
     "text": [
      "[ 32.256875   121.834429     3.23674822]\n",
      "32.256875000000015 , 121.83442899999999\n",
      "3.236748218536377\n"
     ]
    }
   ],
   "source": [
    "flatten_input = []\n",
    "for i in range(nwp_lat.shape[0]): # lat\n",
    "    for j in range(nwp_lat.shape[1]): # lon\n",
    "        flatten_input.append([ nwp_lat[i,j], nwp_lon[i,j], nwp_grd_u[0,i,j] ])\n",
    "\n",
    "len(flatten_input)\n",
    "input_data = np.asarray(flatten_input)\n",
    "print(input_data[0])\n",
    "\n",
    "# extract attribute \n",
    "lon_lat_data = input_data[:, 0:2]\n",
    "qff_values = input_data[:, 2]\n",
    "\n",
    "print(lon_lat_data[0][0], ',', lon_lat_data[0][1])\n",
    "print(qff_values[0])\n",
    "\n"
   ]
  },
  {
   "cell_type": "code",
   "execution_count": 50,
   "metadata": {},
   "outputs": [
    {
     "name": "stdout",
     "output_type": "stream",
     "text": [
      "32.188086607613876\n",
      "43.12964515366301\n",
      "121.06029481806667\n",
      "132.531874170454\n",
      "lat_dist  10.942\n",
      "lon_dist  11.472\n",
      "step_lat:  0.014009678035914389\n",
      "step_lon:  0.019055779655128443\n",
      "x0:  [ 32.256875 121.834429]\n",
      "size =  (781, 602)\n",
      "<class 'numpy.ndarray'>\n",
      "[[-4.9995001e+20 -4.9995001e+20 -4.9995001e+20 ... -4.9995001e+20\n",
      "  -4.9995001e+20 -4.9995001e+20]\n",
      " [-4.9995001e+20 -4.9995001e+20 -4.9995001e+20 ... -4.9995001e+20\n",
      "  -4.9995001e+20 -4.9995001e+20]\n",
      " [-4.9995001e+20 -4.9995001e+20 -4.9995001e+20 ... -4.9995001e+20\n",
      "  -4.9995001e+20 -4.9995001e+20]\n",
      " ...\n",
      " [-4.9995001e+20 -4.9995001e+20 -4.9995001e+20 ... -4.4367690e+20\n",
      "  -4.4362117e+20 -4.4356618e+20]\n",
      " [-4.9995001e+20 -4.9995001e+20 -4.9995001e+20 ... -4.4339581e+20\n",
      "  -4.4333984e+20 -4.4328463e+20]\n",
      " [-4.9995001e+20 -4.9995001e+20 -4.9995001e+20 ... -4.4311645e+20\n",
      "  -4.4306026e+20 -4.4300488e+20]]\n"
     ]
    }
   ],
   "source": [
    "#!pip install fast-barnes-py\n",
    "\n",
    "# definition of a 12Â° x 12Â° grid starting at 9Â°W / 47Â°N\n",
    "# resolution = 32.0\n",
    "# step = 1.0 / resolution\n",
    "# x0 = np.asarray([-9.0, 47.0], dtype=np.float64)\n",
    "# size = (int(12.0 / step), int(12.0 / step))\n",
    "\n",
    "\n",
    "#resolution = 32.0\n",
    "#step = 0.005\n",
    "lat_dist = abs(lon_lat_data[:,0].min() - lon_lat_data[:,0].max())\n",
    "lon_dist = abs(lon_lat_data[:,1].min() - lon_lat_data[:,1].max())\n",
    "step_lat = lat_dist/nwp_lat.shape[0]\n",
    "step_lon = lon_dist/nwp_lat.shape[1]\n",
    "print(lon_lat_data[:,0].min())\n",
    "print(lon_lat_data[:,0].max())\n",
    "print(lon_lat_data[:,1].min())\n",
    "print(lon_lat_data[:,1].max())\n",
    "print(\"lat_dist \", np.round(lat_dist,3))\n",
    "print(\"lon_dist \", np.round(lon_dist,3))\n",
    "x0 = np.asarray([lon_lat_data[0][0], lon_lat_data[0][1]], dtype=np.float64)\n",
    "size = (int(lat_dist / step_lat), int(lon_dist / step_lon))\n",
    "print('step_lat: ', step_lat)\n",
    "print('step_lon: ', step_lon)\n",
    "print('x0: ', x0)\n",
    "print(\"size = \", size)\n",
    "\n",
    "\n",
    "# calculate Barnes interpolation\n",
    "from fastbarnes import interpolation\n",
    "sigma = 1.0\n",
    "field = interpolation.barnes(lon_lat_data, qff_values, sigma, x0, step_lat, size)\n",
    "print(type(field))\n",
    "print(np.round(field, 2))"
   ]
  },
  {
   "cell_type": "code",
   "execution_count": 14,
   "metadata": {},
   "outputs": [
    {
     "ename": "TypeError",
     "evalue": "Length of y (385) must match number of rows in z (384)",
     "output_type": "error",
     "traceback": [
      "\u001b[1;31m---------------------------------------------------------------------------\u001b[0m",
      "\u001b[1;31mTypeError\u001b[0m                                 Traceback (most recent call last)",
      "Cell \u001b[1;32mIn[14], line 8\u001b[0m\n\u001b[0;32m      6\u001b[0m gridY \u001b[39m=\u001b[39m np\u001b[39m.\u001b[39marange(x0[\u001b[39m1\u001b[39m], x0[\u001b[39m1\u001b[39m]\u001b[39m+\u001b[39msize[\u001b[39m0\u001b[39m]\u001b[39m*\u001b[39mstep, step)\n\u001b[0;32m      7\u001b[0m levels \u001b[39m=\u001b[39m np\u001b[39m.\u001b[39marange(\u001b[39m-\u001b[39m\u001b[39m20\u001b[39m, \u001b[39m20\u001b[39m, \u001b[39m1\u001b[39m)\n\u001b[1;32m----> 8\u001b[0m cs \u001b[39m=\u001b[39m plt\u001b[39m.\u001b[39;49mcontour(gridX, gridY, field, levels)\n\u001b[0;32m      9\u001b[0m plt\u001b[39m.\u001b[39mclabel(cs, levels[::\u001b[39m2\u001b[39m], fmt\u001b[39m=\u001b[39m\u001b[39m'\u001b[39m\u001b[39m%d\u001b[39;00m\u001b[39m'\u001b[39m, fontsize\u001b[39m=\u001b[39m\u001b[39m9\u001b[39m)\n\u001b[0;32m     11\u001b[0m plt\u001b[39m.\u001b[39mscatter(lon_lat_data[:, \u001b[39m0\u001b[39m], lon_lat_data[:, \u001b[39m1\u001b[39m], color\u001b[39m=\u001b[39m\u001b[39m'\u001b[39m\u001b[39mred\u001b[39m\u001b[39m'\u001b[39m, s\u001b[39m=\u001b[39m\u001b[39m20\u001b[39m, marker\u001b[39m=\u001b[39m\u001b[39m'\u001b[39m\u001b[39m.\u001b[39m\u001b[39m'\u001b[39m)\n",
      "File \u001b[1;32mc:\\workspace\\VScode_project\\prj_mountain2\\cdo_test\\lib\\site-packages\\matplotlib\\pyplot.py:2527\u001b[0m, in \u001b[0;36mcontour\u001b[1;34m(data, *args, **kwargs)\u001b[0m\n\u001b[0;32m   2525\u001b[0m \u001b[39m@_copy_docstring_and_deprecators\u001b[39m(Axes\u001b[39m.\u001b[39mcontour)\n\u001b[0;32m   2526\u001b[0m \u001b[39mdef\u001b[39;00m \u001b[39mcontour\u001b[39m(\u001b[39m*\u001b[39margs, data\u001b[39m=\u001b[39m\u001b[39mNone\u001b[39;00m, \u001b[39m*\u001b[39m\u001b[39m*\u001b[39mkwargs):\n\u001b[1;32m-> 2527\u001b[0m     __ret \u001b[39m=\u001b[39m gca()\u001b[39m.\u001b[39mcontour(\n\u001b[0;32m   2528\u001b[0m         \u001b[39m*\u001b[39margs, \u001b[39m*\u001b[39m\u001b[39m*\u001b[39m({\u001b[39m\"\u001b[39m\u001b[39mdata\u001b[39m\u001b[39m\"\u001b[39m: data} \u001b[39mif\u001b[39;00m data \u001b[39mis\u001b[39;00m \u001b[39mnot\u001b[39;00m \u001b[39mNone\u001b[39;00m \u001b[39melse\u001b[39;00m {}),\n\u001b[0;32m   2529\u001b[0m         \u001b[39m*\u001b[39m\u001b[39m*\u001b[39mkwargs)\n\u001b[0;32m   2530\u001b[0m     \u001b[39mif\u001b[39;00m __ret\u001b[39m.\u001b[39m_A \u001b[39mis\u001b[39;00m \u001b[39mnot\u001b[39;00m \u001b[39mNone\u001b[39;00m: sci(__ret)  \u001b[39m# noqa\u001b[39;00m\n\u001b[0;32m   2531\u001b[0m     \u001b[39mreturn\u001b[39;00m __ret\n",
      "File \u001b[1;32mc:\\workspace\\VScode_project\\prj_mountain2\\cdo_test\\lib\\site-packages\\matplotlib\\__init__.py:1475\u001b[0m, in \u001b[0;36m_preprocess_data.<locals>.inner\u001b[1;34m(ax, data, *args, **kwargs)\u001b[0m\n\u001b[0;32m   1472\u001b[0m \u001b[39m@functools\u001b[39m\u001b[39m.\u001b[39mwraps(func)\n\u001b[0;32m   1473\u001b[0m \u001b[39mdef\u001b[39;00m \u001b[39minner\u001b[39m(ax, \u001b[39m*\u001b[39margs, data\u001b[39m=\u001b[39m\u001b[39mNone\u001b[39;00m, \u001b[39m*\u001b[39m\u001b[39m*\u001b[39mkwargs):\n\u001b[0;32m   1474\u001b[0m     \u001b[39mif\u001b[39;00m data \u001b[39mis\u001b[39;00m \u001b[39mNone\u001b[39;00m:\n\u001b[1;32m-> 1475\u001b[0m         \u001b[39mreturn\u001b[39;00m func(ax, \u001b[39m*\u001b[39m\u001b[39mmap\u001b[39m(sanitize_sequence, args), \u001b[39m*\u001b[39m\u001b[39m*\u001b[39mkwargs)\n\u001b[0;32m   1477\u001b[0m     bound \u001b[39m=\u001b[39m new_sig\u001b[39m.\u001b[39mbind(ax, \u001b[39m*\u001b[39margs, \u001b[39m*\u001b[39m\u001b[39m*\u001b[39mkwargs)\n\u001b[0;32m   1478\u001b[0m     auto_label \u001b[39m=\u001b[39m (bound\u001b[39m.\u001b[39marguments\u001b[39m.\u001b[39mget(label_namer)\n\u001b[0;32m   1479\u001b[0m                   \u001b[39mor\u001b[39;00m bound\u001b[39m.\u001b[39mkwargs\u001b[39m.\u001b[39mget(label_namer))\n",
      "File \u001b[1;32mc:\\workspace\\VScode_project\\prj_mountain2\\cdo_test\\lib\\site-packages\\matplotlib\\axes\\_axes.py:6449\u001b[0m, in \u001b[0;36mAxes.contour\u001b[1;34m(self, *args, **kwargs)\u001b[0m\n\u001b[0;32m   6440\u001b[0m \u001b[39m\u001b[39m\u001b[39m\"\"\"\u001b[39;00m\n\u001b[0;32m   6441\u001b[0m \u001b[39mPlot contour lines.\u001b[39;00m\n\u001b[0;32m   6442\u001b[0m \n\u001b[1;32m   (...)\u001b[0m\n\u001b[0;32m   6446\u001b[0m \u001b[39m%(contour_doc)s\u001b[39;00m\n\u001b[0;32m   6447\u001b[0m \u001b[39m\"\"\"\u001b[39;00m\n\u001b[0;32m   6448\u001b[0m kwargs[\u001b[39m'\u001b[39m\u001b[39mfilled\u001b[39m\u001b[39m'\u001b[39m] \u001b[39m=\u001b[39m \u001b[39mFalse\u001b[39;00m\n\u001b[1;32m-> 6449\u001b[0m contours \u001b[39m=\u001b[39m mcontour\u001b[39m.\u001b[39mQuadContourSet(\u001b[39mself\u001b[39m, \u001b[39m*\u001b[39margs, \u001b[39m*\u001b[39m\u001b[39m*\u001b[39mkwargs)\n\u001b[0;32m   6450\u001b[0m \u001b[39mself\u001b[39m\u001b[39m.\u001b[39m_request_autoscale_view()\n\u001b[0;32m   6451\u001b[0m \u001b[39mreturn\u001b[39;00m contours\n",
      "File \u001b[1;32mc:\\workspace\\VScode_project\\prj_mountain2\\cdo_test\\lib\\site-packages\\matplotlib\\contour.py:769\u001b[0m, in \u001b[0;36mContourSet.__init__\u001b[1;34m(self, ax, levels, filled, linewidths, linestyles, hatches, alpha, origin, extent, cmap, colors, norm, vmin, vmax, extend, antialiased, nchunk, locator, transform, negative_linestyles, *args, **kwargs)\u001b[0m\n\u001b[0;32m    765\u001b[0m \u001b[39mif\u001b[39;00m \u001b[39mself\u001b[39m\u001b[39m.\u001b[39mnegative_linestyles \u001b[39mis\u001b[39;00m \u001b[39mNone\u001b[39;00m:\n\u001b[0;32m    766\u001b[0m     \u001b[39mself\u001b[39m\u001b[39m.\u001b[39mnegative_linestyles \u001b[39m=\u001b[39m \\\n\u001b[0;32m    767\u001b[0m         mpl\u001b[39m.\u001b[39mrcParams[\u001b[39m'\u001b[39m\u001b[39mcontour.negative_linestyle\u001b[39m\u001b[39m'\u001b[39m]\n\u001b[1;32m--> 769\u001b[0m kwargs \u001b[39m=\u001b[39m \u001b[39mself\u001b[39m\u001b[39m.\u001b[39m_process_args(\u001b[39m*\u001b[39margs, \u001b[39m*\u001b[39m\u001b[39m*\u001b[39mkwargs)\n\u001b[0;32m    770\u001b[0m \u001b[39mself\u001b[39m\u001b[39m.\u001b[39m_process_levels()\n\u001b[0;32m    772\u001b[0m \u001b[39mself\u001b[39m\u001b[39m.\u001b[39m_extend_min \u001b[39m=\u001b[39m \u001b[39mself\u001b[39m\u001b[39m.\u001b[39mextend \u001b[39min\u001b[39;00m [\u001b[39m'\u001b[39m\u001b[39mmin\u001b[39m\u001b[39m'\u001b[39m, \u001b[39m'\u001b[39m\u001b[39mboth\u001b[39m\u001b[39m'\u001b[39m]\n",
      "File \u001b[1;32mc:\\workspace\\VScode_project\\prj_mountain2\\cdo_test\\lib\\site-packages\\matplotlib\\contour.py:1411\u001b[0m, in \u001b[0;36mQuadContourSet._process_args\u001b[1;34m(self, corner_mask, algorithm, *args, **kwargs)\u001b[0m\n\u001b[0;32m   1408\u001b[0m         corner_mask \u001b[39m=\u001b[39m mpl\u001b[39m.\u001b[39mrcParams[\u001b[39m'\u001b[39m\u001b[39mcontour.corner_mask\u001b[39m\u001b[39m'\u001b[39m]\n\u001b[0;32m   1409\u001b[0m \u001b[39mself\u001b[39m\u001b[39m.\u001b[39m_corner_mask \u001b[39m=\u001b[39m corner_mask\n\u001b[1;32m-> 1411\u001b[0m x, y, z \u001b[39m=\u001b[39m \u001b[39mself\u001b[39;49m\u001b[39m.\u001b[39;49m_contour_args(args, kwargs)\n\u001b[0;32m   1413\u001b[0m contour_generator \u001b[39m=\u001b[39m contourpy\u001b[39m.\u001b[39mcontour_generator(\n\u001b[0;32m   1414\u001b[0m     x, y, z, name\u001b[39m=\u001b[39m\u001b[39mself\u001b[39m\u001b[39m.\u001b[39m_algorithm, corner_mask\u001b[39m=\u001b[39m\u001b[39mself\u001b[39m\u001b[39m.\u001b[39m_corner_mask,\n\u001b[0;32m   1415\u001b[0m     line_type\u001b[39m=\u001b[39mcontourpy\u001b[39m.\u001b[39mLineType\u001b[39m.\u001b[39mSeparateCode,\n\u001b[0;32m   1416\u001b[0m     fill_type\u001b[39m=\u001b[39mcontourpy\u001b[39m.\u001b[39mFillType\u001b[39m.\u001b[39mOuterCode,\n\u001b[0;32m   1417\u001b[0m     chunk_size\u001b[39m=\u001b[39m\u001b[39mself\u001b[39m\u001b[39m.\u001b[39mnchunk)\n\u001b[0;32m   1419\u001b[0m t \u001b[39m=\u001b[39m \u001b[39mself\u001b[39m\u001b[39m.\u001b[39mget_transform()\n",
      "File \u001b[1;32mc:\\workspace\\VScode_project\\prj_mountain2\\cdo_test\\lib\\site-packages\\matplotlib\\contour.py:1450\u001b[0m, in \u001b[0;36mQuadContourSet._contour_args\u001b[1;34m(self, args, kwargs)\u001b[0m\n\u001b[0;32m   1448\u001b[0m \u001b[39melif\u001b[39;00m nargs \u001b[39m<\u001b[39m\u001b[39m=\u001b[39m \u001b[39m4\u001b[39m:\n\u001b[0;32m   1449\u001b[0m     x, y, z_orig, \u001b[39m*\u001b[39margs \u001b[39m=\u001b[39m args\n\u001b[1;32m-> 1450\u001b[0m     x, y, z \u001b[39m=\u001b[39m \u001b[39mself\u001b[39;49m\u001b[39m.\u001b[39;49m_check_xyz(x, y, z_orig, kwargs)\n\u001b[0;32m   1451\u001b[0m \u001b[39melse\u001b[39;00m:\n\u001b[0;32m   1452\u001b[0m     \u001b[39mraise\u001b[39;00m _api\u001b[39m.\u001b[39mnargs_error(fn, takes\u001b[39m=\u001b[39m\u001b[39m\"\u001b[39m\u001b[39mfrom 1 to 4\u001b[39m\u001b[39m\"\u001b[39m, given\u001b[39m=\u001b[39mnargs)\n",
      "File \u001b[1;32mc:\\workspace\\VScode_project\\prj_mountain2\\cdo_test\\lib\\site-packages\\matplotlib\\contour.py:1491\u001b[0m, in \u001b[0;36mQuadContourSet._check_xyz\u001b[1;34m(self, x, y, z, kwargs)\u001b[0m\n\u001b[0;32m   1488\u001b[0m         \u001b[39mraise\u001b[39;00m \u001b[39mTypeError\u001b[39;00m(\u001b[39mf\u001b[39m\u001b[39m\"\u001b[39m\u001b[39mLength of x (\u001b[39m\u001b[39m{\u001b[39;00mnx\u001b[39m}\u001b[39;00m\u001b[39m) must match number of \u001b[39m\u001b[39m\"\u001b[39m\n\u001b[0;32m   1489\u001b[0m                         \u001b[39mf\u001b[39m\u001b[39m\"\u001b[39m\u001b[39mcolumns in z (\u001b[39m\u001b[39m{\u001b[39;00mNx\u001b[39m}\u001b[39;00m\u001b[39m)\u001b[39m\u001b[39m\"\u001b[39m)\n\u001b[0;32m   1490\u001b[0m     \u001b[39mif\u001b[39;00m ny \u001b[39m!=\u001b[39m Ny:\n\u001b[1;32m-> 1491\u001b[0m         \u001b[39mraise\u001b[39;00m \u001b[39mTypeError\u001b[39;00m(\u001b[39mf\u001b[39m\u001b[39m\"\u001b[39m\u001b[39mLength of y (\u001b[39m\u001b[39m{\u001b[39;00mny\u001b[39m}\u001b[39;00m\u001b[39m) must match number of \u001b[39m\u001b[39m\"\u001b[39m\n\u001b[0;32m   1492\u001b[0m                         \u001b[39mf\u001b[39m\u001b[39m\"\u001b[39m\u001b[39mrows in z (\u001b[39m\u001b[39m{\u001b[39;00mNy\u001b[39m}\u001b[39;00m\u001b[39m)\u001b[39m\u001b[39m\"\u001b[39m)\n\u001b[0;32m   1493\u001b[0m     x, y \u001b[39m=\u001b[39m np\u001b[39m.\u001b[39mmeshgrid(x, y)\n\u001b[0;32m   1494\u001b[0m \u001b[39melif\u001b[39;00m x\u001b[39m.\u001b[39mndim \u001b[39m==\u001b[39m \u001b[39m2\u001b[39m:\n",
      "\u001b[1;31mTypeError\u001b[0m: Length of y (385) must match number of rows in z (384)"
     ]
    },
    {
     "data": {
      "image/png": "[encoded data removed]",
      "text/plain": [
       "<Figure size 500x500 with 1 Axes>"
      ]
     },
     "metadata": {},
     "output_type": "display_data"
    }
   ],
   "source": [
    "# draw graphic with labeled contours and scattered sample points\n",
    "import matplotlib.pyplot as plt\n",
    "plt.figure(figsize=(5, 5))\n",
    "\n",
    "gridX = np.arange(x0[0], x0[0]+size[1]*step, step)\n",
    "gridY = np.arange(x0[1], x0[1]+size[0]*step, step)\n",
    "levels = np.arange(-20, 20, 1)\n",
    "cs = plt.contour(gridX, gridY, field, levels)\n",
    "plt.clabel(cs, levels[::2], fmt='%d', fontsize=9)\n",
    "\n",
    "plt.scatter(lon_lat_data[:, 0], lon_lat_data[:, 1], color='red', s=20, marker='.')\n",
    "\n",
    "plt.show()"
   ]
  },
  {
   "cell_type": "code",
   "execution_count": 20,
   "metadata": {},
   "outputs": [
    {
     "name": "stdout",
     "output_type": "stream",
     "text": [
      "-8.98\n",
      "2.94\n",
      "-11.92\n"
     ]
    }
   ],
   "source": [
    "input_data = np.asarray([\n",
    "    [-3.73,56.33,995.1], [2.64,47.05,1012.5], [-8.40,47.50,1011.3], [2.94,54.33,1006.0], [-2.90,49.90,1006.3],\n",
    "    [-8.98,53.72,1002.1], [1.20,58.60,1002.6], [1.60,50.73,1009.1], [-7.38,57.36,997.7], [-1.25,53.01,1000.4],\n",
    "    [-4.74,52.79,998.4], [-0.61,47.48,1013.0], [-6.10,50.10,1004.3], [-6.46,54.87,996.4], [-3.22,47.29,1012.8],\n",
    "    [-1.60,55.42,996.6], [2.30,56.60,1004.5], [1.12,52.95,1003.6], [-0.90,57.80,999.9], [-7.90,51.40,1002.6],\n",
    "    [-0.70,50.10,1007.5], [2.53,49.02,1010.8], [-5.06,48.47,1008.5], [-3.10,53.60,997.5], [-5.63,57.86,997.8],\n",
    "    [-6.90,52.85,1000.9], [-4.15,51.09,1002.6], [-1.99,51.50,1002.7], [1.21,47.68,1011.7], [-5.70,56.30,995.5],\n",
    "    [-1.98,53.13,998.5], [1.09,49.93,1009.0], [1.72,58.42,1002.9], [-6.30,52.30,999.4], [0.70,57.70,1001.9],\n",
    "    [-3.50,53.60,995.9], [1.38,48.06,1011.6], [-4.37,51.71,1001.1], [-3.09,58.45,998.5], [2.00,56.40,1003.9],\n",
    "    [1.90,57.00,1003.3], [0.45,51.90,1004.9], [-8.25,51.80,1002.5], [-1.87,53.81,997.4], [-2.38,55.71,995.1],\n",
    "    [-4.01,54.80,992.1], [0.88,53.37,1002.6], [-1.69,51.86,1002.1], [-4.57,52.14,999.6], [-0.20,58.40,1001.1],\n",
    "])\n",
    "\n",
    "input_data.shape\n",
    "print(input_data[:,0].min())\n",
    "print(input_data[:,0].max())\n",
    "print(input_data[:,0].min() - input_data[:,0].max())"
   ]
  }
 ],
 "metadata": {
  "kernelspec": {
   "display_name": "Python 3",
   "language": "python",
   "name": "python3"
  },
  "language_info": {
   "codemirror_mode": {
    "name": "ipython",
    "version": 3
   },
   "file_extension": ".py",
   "mimetype": "text/x-python",
   "name": "python",
   "nbconvert_exporter": "python",
   "pygments_lexer": "ipython3",
   "version": "3.8.16"
  },
  "orig_nbformat": 4
 },
 "nbformat": 4,
 "nbformat_minor": 2
}
