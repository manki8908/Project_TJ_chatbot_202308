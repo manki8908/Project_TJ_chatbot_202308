{
 "cells": [
  {
   "cell_type": "markdown",
   "metadata": {},
   "source": [
    "### Grid read & to point\n",
    "* CDO를 이용하여 /DAIO/nwp/stn/{stn_id}\" 경로에 지점 추출자료 생성(nc포맷)"
   ]
  },
  {
   "cell_type": "code",
   "execution_count": 1,
   "metadata": {},
   "outputs": [
    {
     "name": "stdout",
     "output_type": "stream",
     "text": [
      "dict_items([('47105', [37.7515, 128.891])])\n",
      "1\n"
     ]
    }
   ],
   "source": [
    "import numpy as np\n",
    "import pandas as pd \n",
    "\n",
    "# set para\n",
    "stn_latlon = {\"47105\": [37.7515, 128.891]}\n",
    "\n",
    "print(stn_latlon.items())\n",
    "print(len(stn_latlon))"
   ]
  },
  {
   "cell_type": "code",
   "execution_count": 4,
   "metadata": {},
   "outputs": [
    {
     "name": "stdout",
     "output_type": "stream",
     "text": [
      "47105 [37.7515, 128.891]\n",
      "47105 [37.7515, 128.891]\n",
      "47105 [37.7515, 128.891]\n",
      "47105 [37.7515, 128.891]\n",
      "47105 [37.7515, 128.891]\n",
      "47105 [37.7515, 128.891]\n",
      "47105 [37.7515, 128.891]\n",
      "47105 [37.7515, 128.891]\n",
      "47105 [37.7515, 128.891]\n",
      "47105 [37.7515, 128.891]\n",
      "47105 [37.7515, 128.891]\n",
      "47105 [37.7515, 128.891]\n",
      "47105 [37.7515, 128.891]\n",
      "47105 [37.7515, 128.891]\n",
      "47105 [37.7515, 128.891]\n",
      "47105 [37.7515, 128.891]\n",
      "47105 [37.7515, 128.891]\n",
      "47105 [37.7515, 128.891]\n",
      "47105 [37.7515, 128.891]\n",
      "47105 [37.7515, 128.891]\n",
      "47105 [37.7515, 128.891]\n",
      "47105 [37.7515, 128.891]\n",
      "47105 [37.7515, 128.891]\n",
      "47105 [37.7515, 128.891]\n",
      "47105 [37.7515, 128.891]\n",
      "47105 [37.7515, 128.891]\n",
      "47105 [37.7515, 128.891]\n",
      "47105 [37.7515, 128.891]\n",
      "47105 [37.7515, 128.891]\n",
      "47105 [37.7515, 128.891]\n",
      "47105 [37.7515, 128.891]\n",
      "47105 [37.7515, 128.891]\n",
      "47105 [37.7515, 128.891]\n",
      "47105 [37.7515, 128.891]\n",
      "47105 [37.7515, 128.891]\n",
      "47105 [37.7515, 128.891]\n",
      "47105 [37.7515, 128.891]\n",
      "47105 [37.7515, 128.891]\n"
     ]
    },
    {
     "ename": "KeyboardInterrupt",
     "evalue": "",
     "output_type": "error",
     "traceback": [
      "\u001b[0;31m---------------------------------------------------------------------------\u001b[0m",
      "\u001b[0;31mKeyboardInterrupt\u001b[0m                         Traceback (most recent call last)",
      "Cell \u001b[0;32mIn[4], line 34\u001b[0m\n\u001b[1;32m     30\u001b[0m \u001b[39mif\u001b[39;00m \u001b[39mnot\u001b[39;00m os\u001b[39m.\u001b[39mpath\u001b[39m.\u001b[39mexists(\u001b[39mf\u001b[39m\u001b[39m\"\u001b[39m\u001b[39m../DAIO/nwp/stn/\u001b[39m\u001b[39m{\u001b[39;00mkey\u001b[39m}\u001b[39;00m\u001b[39m\"\u001b[39m): os\u001b[39m.\u001b[39mmakedirs(\u001b[39mf\u001b[39m\u001b[39m\"\u001b[39m\u001b[39m../DAIO/nwp/stn/\u001b[39m\u001b[39m{\u001b[39;00mkey\u001b[39m}\u001b[39;00m\u001b[39m\"\u001b[39m)\n\u001b[1;32m     32\u001b[0m output_name \u001b[39m=\u001b[39m \u001b[39mf\u001b[39m\u001b[39m\"\u001b[39m\u001b[39m../DAIO/nwp/stn/\u001b[39m\u001b[39m{\u001b[39;00mkey\u001b[39m}\u001b[39;00m\u001b[39m/ldaps_stn_\u001b[39m\u001b[39m{\u001b[39;00mkey\u001b[39m}\u001b[39;00m\u001b[39m_\u001b[39m\u001b[39m{\u001b[39;00mdate\u001b[39m}\u001b[39;00m\u001b[39m.nc\u001b[39m\u001b[39m\"\u001b[39m\n\u001b[0;32m---> 34\u001b[0m cdo\u001b[39m.\u001b[39;49mremapnn(cdo_parameters, \u001b[39minput\u001b[39;49m\u001b[39m=\u001b[39;49mfile, output\u001b[39m=\u001b[39;49moutput_name)\n",
      "File \u001b[0;32m/usr/local/lib/python3.8/site-packages/cdo/cdo.py:515\u001b[0m, in \u001b[0;36mCdo.__call__\u001b[0;34m(self, *args, **kwargs)\u001b[0m\n\u001b[1;32m    511\u001b[0m         outputs\u001b[39m.\u001b[39mappend(\u001b[39mself\u001b[39m\u001b[39m.\u001b[39mtempStore\u001b[39m.\u001b[39mnewFile())\n\u001b[1;32m    513\u001b[0m cmd\u001b[39m.\u001b[39mappend(\u001b[39m'\u001b[39m\u001b[39m \u001b[39m\u001b[39m'\u001b[39m\u001b[39m.\u001b[39mjoin(outputs))\n\u001b[0;32m--> 515\u001b[0m retvals \u001b[39m=\u001b[39m \u001b[39mself\u001b[39;49m\u001b[39m.\u001b[39;49m__call(cmd, envOfCall)\n\u001b[1;32m    516\u001b[0m \u001b[39mif\u001b[39;00m \u001b[39mself\u001b[39m\u001b[39m.\u001b[39m__hasError(method_name, cmd, retvals):\n\u001b[1;32m    517\u001b[0m     \u001b[39mif\u001b[39;00m \u001b[39mself\u001b[39m\u001b[39m.\u001b[39mreturnNoneOnError:\n",
      "File \u001b[0;32m/usr/local/lib/python3.8/site-packages/cdo/cdo.py:334\u001b[0m, in \u001b[0;36mCdo.__call\u001b[0;34m(self, cmd, envOfCall)\u001b[0m\n\u001b[1;32m    326\u001b[0m env\u001b[39m.\u001b[39mupdate(envOfCall)\n\u001b[1;32m    328\u001b[0m proc \u001b[39m=\u001b[39m subprocess\u001b[39m.\u001b[39mPopen(\u001b[39m'\u001b[39m\u001b[39m \u001b[39m\u001b[39m'\u001b[39m\u001b[39m.\u001b[39mjoin(cmd),\n\u001b[1;32m    329\u001b[0m                         shell\u001b[39m=\u001b[39m\u001b[39mTrue\u001b[39;00m,\n\u001b[1;32m    330\u001b[0m                         stderr\u001b[39m=\u001b[39msubprocess\u001b[39m.\u001b[39mPIPE,\n\u001b[1;32m    331\u001b[0m                         stdout\u001b[39m=\u001b[39msubprocess\u001b[39m.\u001b[39mPIPE,\n\u001b[1;32m    332\u001b[0m                         env\u001b[39m=\u001b[39menv)\n\u001b[0;32m--> 334\u001b[0m retvals \u001b[39m=\u001b[39m proc\u001b[39m.\u001b[39;49mcommunicate()\n\u001b[1;32m    335\u001b[0m stdout \u001b[39m=\u001b[39m retvals[\u001b[39m0\u001b[39m]\u001b[39m.\u001b[39mdecode(\u001b[39m\"\u001b[39m\u001b[39mutf-8\u001b[39m\u001b[39m\"\u001b[39m)\n\u001b[1;32m    336\u001b[0m stderr \u001b[39m=\u001b[39m retvals[\u001b[39m1\u001b[39m]\u001b[39m.\u001b[39mdecode(\u001b[39m\"\u001b[39m\u001b[39mutf-8\u001b[39m\u001b[39m\"\u001b[39m)\n",
      "File \u001b[0;32m/usr/local/Cellar/python@3.8/3.8.16/Frameworks/Python.framework/Versions/3.8/lib/python3.8/subprocess.py:1028\u001b[0m, in \u001b[0;36mPopen.communicate\u001b[0;34m(self, input, timeout)\u001b[0m\n\u001b[1;32m   1025\u001b[0m     endtime \u001b[39m=\u001b[39m \u001b[39mNone\u001b[39;00m\n\u001b[1;32m   1027\u001b[0m \u001b[39mtry\u001b[39;00m:\n\u001b[0;32m-> 1028\u001b[0m     stdout, stderr \u001b[39m=\u001b[39m \u001b[39mself\u001b[39;49m\u001b[39m.\u001b[39;49m_communicate(\u001b[39minput\u001b[39;49m, endtime, timeout)\n\u001b[1;32m   1029\u001b[0m \u001b[39mexcept\u001b[39;00m \u001b[39mKeyboardInterrupt\u001b[39;00m:\n\u001b[1;32m   1030\u001b[0m     \u001b[39m# https://bugs.python.org/issue25942\u001b[39;00m\n\u001b[1;32m   1031\u001b[0m     \u001b[39m# See the detailed comment in .wait().\u001b[39;00m\n\u001b[1;32m   1032\u001b[0m     \u001b[39mif\u001b[39;00m timeout \u001b[39mis\u001b[39;00m \u001b[39mnot\u001b[39;00m \u001b[39mNone\u001b[39;00m:\n",
      "File \u001b[0;32m/usr/local/Cellar/python@3.8/3.8.16/Frameworks/Python.framework/Versions/3.8/lib/python3.8/subprocess.py:1868\u001b[0m, in \u001b[0;36mPopen._communicate\u001b[0;34m(self, input, endtime, orig_timeout)\u001b[0m\n\u001b[1;32m   1861\u001b[0m     \u001b[39mself\u001b[39m\u001b[39m.\u001b[39m_check_timeout(endtime, orig_timeout,\n\u001b[1;32m   1862\u001b[0m                         stdout, stderr,\n\u001b[1;32m   1863\u001b[0m                         skip_check_and_raise\u001b[39m=\u001b[39m\u001b[39mTrue\u001b[39;00m)\n\u001b[1;32m   1864\u001b[0m     \u001b[39mraise\u001b[39;00m \u001b[39mRuntimeError\u001b[39;00m(  \u001b[39m# Impossible :)\u001b[39;00m\n\u001b[1;32m   1865\u001b[0m         \u001b[39m'\u001b[39m\u001b[39m_check_timeout(..., skip_check_and_raise=True) \u001b[39m\u001b[39m'\u001b[39m\n\u001b[1;32m   1866\u001b[0m         \u001b[39m'\u001b[39m\u001b[39mfailed to raise TimeoutExpired.\u001b[39m\u001b[39m'\u001b[39m)\n\u001b[0;32m-> 1868\u001b[0m ready \u001b[39m=\u001b[39m selector\u001b[39m.\u001b[39;49mselect(timeout)\n\u001b[1;32m   1869\u001b[0m \u001b[39mself\u001b[39m\u001b[39m.\u001b[39m_check_timeout(endtime, orig_timeout, stdout, stderr)\n\u001b[1;32m   1871\u001b[0m \u001b[39m# XXX Rewrite these to use non-blocking I/O on the file\u001b[39;00m\n\u001b[1;32m   1872\u001b[0m \u001b[39m# objects; they are no longer using C stdio!\u001b[39;00m\n",
      "File \u001b[0;32m/usr/local/Cellar/python@3.8/3.8.16/Frameworks/Python.framework/Versions/3.8/lib/python3.8/selectors.py:415\u001b[0m, in \u001b[0;36m_PollLikeSelector.select\u001b[0;34m(self, timeout)\u001b[0m\n\u001b[1;32m    413\u001b[0m ready \u001b[39m=\u001b[39m []\n\u001b[1;32m    414\u001b[0m \u001b[39mtry\u001b[39;00m:\n\u001b[0;32m--> 415\u001b[0m     fd_event_list \u001b[39m=\u001b[39m \u001b[39mself\u001b[39;49m\u001b[39m.\u001b[39;49m_selector\u001b[39m.\u001b[39;49mpoll(timeout)\n\u001b[1;32m    416\u001b[0m \u001b[39mexcept\u001b[39;00m \u001b[39mInterruptedError\u001b[39;00m:\n\u001b[1;32m    417\u001b[0m     \u001b[39mreturn\u001b[39;00m ready\n",
      "File \u001b[0;32m/usr/local/lib/python3.8/site-packages/cdo/cdo.py:835\u001b[0m, in \u001b[0;36mCdoTempfileStore.__catch__\u001b[0;34m(self, signum, frame, throw, **kwargs)\u001b[0m\n\u001b[1;32m    833\u001b[0m \u001b[39mself\u001b[39m\u001b[39m.\u001b[39m\u001b[39m__del__\u001b[39m()\n\u001b[1;32m    834\u001b[0m \u001b[39mif\u001b[39;00m \u001b[39mcallable\u001b[39m(throw):\n\u001b[0;32m--> 835\u001b[0m     throw(signum, frame, \u001b[39m*\u001b[39;49m\u001b[39m*\u001b[39;49mkwargs)\n\u001b[1;32m    836\u001b[0m \u001b[39melse\u001b[39;00m:\n\u001b[1;32m    837\u001b[0m     \u001b[39mprint\u001b[39m(\u001b[39m\"\u001b[39m\u001b[39mcaught signal\u001b[39m\u001b[39m\"\u001b[39m, signum, frame)\n",
      "\u001b[0;31mKeyboardInterrupt\u001b[0m: "
     ]
    }
   ],
   "source": [
    "#!pip install cdo\n",
    "from cdo import Cdo\n",
    "#import cdo\n",
    "import glob\n",
    "import sys\n",
    "import os\n",
    "\n",
    "#\n",
    "cdo = Cdo()\n",
    "\n",
    "\n",
    "# Get all files in the current directory\n",
    "#input_dir = \"/Users/mankikim/JOB/DATA/\"    # for mac\n",
    "input_dir = \"/Volumes/Rev_SSD/NWP/\"\n",
    "#input_dir = \"D:/KMK_DATA/NWP/\"    # for tjpc\n",
    "\n",
    "files = glob.glob(input_dir + \"*.nc\")\n",
    "\n",
    "# nearest grid 추출\n",
    "for i, file in enumerate(files):\n",
    "    date = file.split(\".\")[1]\n",
    "    for key, value in stn_latlon.items():\n",
    "        print(i, key, value, file)\n",
    "        stn_id = key\n",
    "        lat = value[0]\n",
    "        lon = value[1]\n",
    "\n",
    "        cdo_parameters = f'lon={lon}_lat={lat}'\n",
    "\n",
    "        if not os.path.exists(f\"../DAIO/nwp/stn/{key}\"): os.makedirs(f\"../DAIO/nwp/stn/{key}\")\n",
    "\n",
    "        output_name = f\"../DAIO/nwp/stn/{key}/ldaps_stn_{key}_{date}.nc\"\n",
    "\n",
    "        # 파일의 존재 여부를 확인합니다.\n",
    "        if os.path.exists(output_name):\n",
    "            print(f\"파일이 존재합니다. continue {output_name}\")\n",
    "            continue\n",
    "        else:\n",
    "            #print(\"파일이 존재하지 않습니다.\")\n",
    "            cdo.remapnn(cdo_parameters, input=file, output=output_name)"
   ]
  },
  {
   "cell_type": "markdown",
   "metadata": {},
   "source": [
    "### Extract Lat, Lon"
   ]
  },
  {
   "cell_type": "code",
   "execution_count": 32,
   "metadata": {},
   "outputs": [],
   "source": [
    "import numpy as np\n",
    "import netCDF4 as nc\n",
    "\n",
    "# Get all files in the current directory\n",
    "input_dir = \"/Users/mankikim/JOB/DATA/\"\n",
    "files = glob.glob(input_dir + \"*.nc\")\n",
    "files[0]\n",
    "\n",
    "# nearest grid 추출\n",
    "latlon_file = nc.Dataset(files[0])\n",
    "nc_lat = np.array(latlon_file.variables['latitude'])\n",
    "nc_lon = np.array(latlon_file.variables['longitude'])\n",
    "with open('../DAIO/nwp/ldaps_lat_grid', 'wb') as f:\n",
    "    np.save(f, nc_lat)\n",
    "with open('../DAIO/nwp/ldaps_lon_grid', 'wb') as f:\n",
    "    np.save(f, nc_lon)"
   ]
  },
  {
   "cell_type": "markdown",
   "metadata": {},
   "source": [
    "### Make [batch, sequence, features] using point nc"
   ]
  },
  {
   "cell_type": "code",
   "execution_count": 6,
   "metadata": {},
   "outputs": [
    {
     "name": "stdout",
     "output_type": "stream",
     "text": [
      "있어야할 day수:  868\n",
      "Read:  ../DAIO/nwp/stn/47105/ldaps_stn_47105_2023040300.nc\n",
      "Read:  ../DAIO/nwp/stn/47105/ldaps_stn_47105_2023041100.nc\n",
      "Read:  ../DAIO/nwp/stn/47105/ldaps_stn_47105_2023040600.nc\n",
      "Read:  ../DAIO/nwp/stn/47105/ldaps_stn_47105_2023041000.nc\n"
     ]
    }
   ],
   "source": [
    "import numpy as np\n",
    "import netCDF4 as nc\n",
    "\n",
    "# .. 날짜 초기화\n",
    "set_dates = pd.date_range('2021-01-14 09:00:00', '2023-05-31 09:00:00', freq='D')\n",
    "set_dates = set_dates.strftime(\"%Y%m%d00\")\n",
    "#print(\"data day수: \", len(data_dates))\n",
    "print(\"있어야할 day수: \", len(set_dates))\n",
    "\n",
    "# 추출 변수 셋, 변수 설정 다하기 \n",
    "col_list= ['UGRD_10maboveground',\n",
    "           'VGRD_10maboveground',\n",
    "           'MAXGUST_0maboveground',\n",
    "           'TMP_1_5maboveground',\n",
    "           'NCPCP_surface', \n",
    "           'PRES_surface']\n",
    "\n",
    "# .. nwp 변수 초기화\n",
    "nwp_data = np.full( (len(set_dates),49,len(col_list)), np.nan )\n",
    "\n",
    "# 있는 파일만 읽어 인덱스로 입력하기, nan으로 배열이 초기화 되어 있으니까 날짜에 대한 파일을 전부다 조회할 필요 x\n",
    "for key, value in stn_latlon.items(): \n",
    "\n",
    "   # 지점 추출 nwp file\n",
    "   input_dir = f\"../DAIO/nwp/stn/{key}/\"\n",
    "   files = glob.glob(input_dir + \"*.nc\")\n",
    "   #print(files)\n",
    "\n",
    "   for i,file in enumerate(files):\n",
    "         \n",
    "         date = file.split(\"_\")[3].split(\".\")[0]\n",
    "         #print(\"date\", date)\n",
    "         index = set_dates.get_loc(date)\n",
    "         \n",
    "         # file set\n",
    "         try:\n",
    "            ncfile = nc.Dataset(file)\n",
    "            #ncfile\n",
    "            print(\"Read: \", file)\n",
    "\n",
    "            #if i == 0:\n",
    "            #    nc_lat = ncfile.variables['lat']\n",
    "            #    nc_lon = ncfile.variables['lon']\n",
    "\n",
    "            for j, var in enumerate(col_list):\n",
    "               a = np.array(ncfile.variables[var]).flatten()\n",
    "               #nwp_data[index,:,j] = a[:-1] # 0 ~ +47\n",
    "               nwp_data[index,:,j] = a[:] # 0 ~ +48\n",
    "\n",
    "         except Exception as e:\n",
    "            print(e)"
   ]
  },
  {
   "cell_type": "code",
   "execution_count": 10,
   "metadata": {},
   "outputs": [
    {
     "data": {
      "text/plain": [
       "<class 'netCDF4._netCDF4.Variable'>\n",
       "float64 lon(lon)\n",
       "    standard_name: longitude\n",
       "    long_name: longitude\n",
       "    units: degrees_east\n",
       "    axis: X\n",
       "unlimited dimensions: \n",
       "current shape = (1,)\n",
       "filling off"
      ]
     },
     "execution_count": 10,
     "metadata": {},
     "output_type": "execute_result"
    }
   ],
   "source": [
    "ncfile.variables['lon']"
   ]
  },
  {
   "cell_type": "code",
   "execution_count": 104,
   "metadata": {},
   "outputs": [
    {
     "name": "stdout",
     "output_type": "stream",
     "text": [
      "[0, 1, 2, 3, 4, 5, 6, 7, 8, 9, 10, 11, 12, 13, 14, 15, 16, 17, 18, 19, 20, 21, 22, 23, 24, 25, 26, 27, 28, 29, 30, 31, 32, 33, 34, 35, 36, 37, 38, 39, 40, 41, 42, 43, 44, 45, 46, 47, 48, 49, 50, 51, 52, 53, 54, 55, 56, 57, 58, 59, 60, 61, 62, 63, 64, 65, 66, 67, 68, 69, 70, 71, 72, 73, 74, 75, 76, 77, 78, 79, 80, 81, 82, 83, 84, 85, 86, 87, 88, 89, 90, 91, 92, 93, 94, 95, 96, 97, 98, 99, 100, 101, 102, 103, 104, 105, 106, 107, 108, 109, 110, 111, 112, 113, 114, 115, 116, 117, 118, 119, 120, 121, 122, 123, 124, 125, 126, 127, 128, 129, 130, 131, 132, 133, 134, 135, 136, 137, 138, 139, 140, 141, 142, 143, 144, 145, 146, 147, 148, 149, 150, 151, 152, 153, 154, 155, 156, 157, 158, 159, 160, 161, 162, 163, 164, 165, 166, 167, 168, 169, 170, 171, 172, 173, 174, 175, 176, 177, 178, 179, 180, 181, 182, 183, 184, 185, 186, 187, 188, 189, 190, 191, 192, 193, 194, 195, 196, 197, 198, 199, 200, 201, 202, 203, 204, 205, 206, 207, 208, 209, 210, 211, 212, 213, 214, 215, 216, 217, 218, 219, 220, 221, 222, 223, 224, 225, 226, 227, 228, 229, 230, 231, 232, 233, 234, 235, 236, 237, 238, 239, 240, 241, 242, 243, 244, 245, 246, 247, 248, 249, 250, 251, 252, 253, 254, 255, 256, 257, 258, 259, 260, 261, 262, 263, 264, 265, 266, 267, 268, 269, 270, 271, 272, 273, 274, 275, 276, 277, 278, 279, 280, 281, 282, 283, 284, 285, 286, 287, 288, 289, 290, 291, 292, 293, 294, 295, 296, 297, 298, 299, 300, 301, 302, 303, 304, 305, 306, 307, 308, 309, 310, 311, 312, 313, 314, 315, 316, 317, 318, 319, 320, 321, 322, 323, 324, 325, 326, 327, 328, 329, 330, 331, 332, 333, 334, 335, 336, 337, 338, 339, 340, 341, 342, 343, 344, 345, 346, 347, 348, 349, 350, 351, 352, 353, 354, 355, 356, 357, 358, 359, 360, 361, 362, 363, 364, 365, 366, 367, 368, 369, 370, 371, 372, 373, 374, 375, 376, 377, 378, 379, 380, 381, 382, 383, 384, 385, 386, 387, 388, 389, 390, 391, 392, 393, 394, 395, 396, 397, 398, 399, 400, 401, 402, 403, 404, 405, 406, 407, 408, 409, 410, 411, 412, 413, 414, 415, 416, 417, 418, 419, 420, 421, 422, 423, 424, 425, 426, 427, 428, 429, 430, 431, 432, 433, 434, 435, 436, 437, 438, 439, 440, 441, 442, 443, 444, 445, 446, 447, 448, 449, 450, 451, 452, 453, 454, 455, 456, 457, 458, 459, 460, 461, 462, 463, 464, 465, 466, 467, 468, 469, 470, 471, 472, 473, 474, 475, 476, 477, 478, 479, 480, 481, 482, 483, 484, 485, 486, 487, 488, 489, 490, 491, 492, 493, 494, 495, 496, 497, 498, 499, 500, 501, 502, 503, 504, 505, 506, 507, 508, 509, 510, 511, 512, 513, 514, 515, 516, 517, 518, 519, 520, 521, 522, 523, 524, 525, 526, 527, 528, 529, 530, 531, 532, 533, 534, 535, 536, 537, 538, 539, 540, 541, 542, 543, 544, 545, 546, 547, 548, 549, 550, 551, 552, 553, 554, 555, 556, 557, 558, 559, 560, 561, 562, 563, 564, 565, 566, 567, 568, 569, 570, 571, 572, 573, 574, 575, 576, 577, 578, 579, 580, 581, 582, 583, 584, 585, 586, 587, 588, 589, 590, 591, 592, 593, 594, 595, 596, 597, 598, 599, 600, 601, 602, 603, 604, 605, 606, 607, 608, 609, 610, 611, 612, 613, 614, 615, 616, 617, 618, 619, 620, 621, 622, 623, 624, 625, 626, 627, 628, 629, 630, 631, 632, 633, 634, 635, 636, 637, 638, 639, 640, 641, 642, 643, 644, 645, 646, 647, 648, 649, 650, 651, 652, 653, 654, 655, 656, 657, 658, 659, 660, 661, 662, 663, 664, 665, 666, 667, 668, 669, 670, 671, 672, 673, 674, 675, 676, 677, 678, 679, 680, 681, 682, 683, 684, 685, 686, 687, 688, 689, 690, 691, 692, 693, 694, 695, 696, 697, 698, 699, 700, 701, 702, 703, 704, 705, 706, 707, 708, 709, 710, 711, 712, 713, 714, 715, 716, 717, 718, 719, 720, 721, 722, 723, 724, 725, 726, 727, 728, 729, 730, 731, 732, 733, 734, 735, 736, 737, 738, 739, 740, 741, 742, 743, 744, 745, 746, 747, 748, 749, 750, 751, 752, 753, 754, 755, 756, 757, 758, 759, 760, 761, 762, 763, 764, 765, 766, 767, 768, 769, 770, 771, 772, 773, 774, 775, 776, 777, 778, 779, 780, 781, 782, 783, 784, 785, 786, 787, 788, 789, 790, 791, 792, 793, 794, 795, 796, 797, 798, 799, 800, 801, 802, 803, 804, 805, 806, 807, 808, 810, 811, 813, 814, 815, 818, 819, 820, 821, 822, 823, 824, 825, 826, 827, 828, 829, 830, 831, 832, 833, 834, 835, 836, 837, 838, 839, 840, 841, 842, 843, 844, 845, 846, 847, 848, 849, 850, 851, 852, 853, 854, 855, 856, 857, 858, 859, 860, 861, 862, 863, 864, 865, 866, 867]\n"
     ]
    }
   ],
   "source": [
    "index = set(np.where(np.isnan(nwp_data))[0])\n",
    "print(sorted(index))"
   ]
  },
  {
   "cell_type": "code",
   "execution_count": 105,
   "metadata": {},
   "outputs": [],
   "source": [
    "with open('../DAIO/nwp_data', 'wb') as f:\n",
    "    np.save(f, nwp_data)"
   ]
  },
  {
   "cell_type": "code",
   "execution_count": 84,
   "metadata": {},
   "outputs": [
    {
     "name": "stdout",
     "output_type": "stream",
     "text": [
      "dict_keys(['time', 'lon', 'lat', 'NDNSW_surface', 'NCPCP_surface', 'SNOL_surface', 'UGRD_10maboveground', 'VGRD_10maboveground', 'TMP_1_5maboveground', 'TMIN_1_5maboveground', 'TMAX_1_5maboveground', 'SPFH_1_5maboveground', 'RH_1_5maboveground', 'VIS_1_5maboveground', 'DPT_1_5maboveground', 'MAXGUST_0maboveground', 'LCDC_entireatmosphere_consideredasasinglelayer_', 'MCDC_entireatmosphere_consideredasasinglelayer_', 'HCDC_entireatmosphere_consideredasasinglelayer_', 'TCAR_entireatmosphere_consideredasasinglelayer_', 'PRMSL_meansealevel', 'TMP_surface', 'PRES_surface'])\n",
      "(48,)\n"
     ]
    }
   ],
   "source": [
    "# .. nco read\n",
    "#from nco import Nco\n",
    "#import nco\n",
    "#a = nco.Nco()\n",
    "#nco = Nco()\n",
    "#temperatures = nco.ncra(input=file, returnArray=True).variables['NCPCP_surface'][:]\n",
    "\n",
    "\n",
    "# .. nc read\n",
    "col_list= ['UGRD_10maboveground',\n",
    "           'VGRD_10maboveground',\n",
    "           'MAXGUST_0maboveground',\n",
    "           'TMP_1_5maboveground',\n",
    "           'NCPCP_surface', \n",
    "           'PRES_surface']\n",
    "print(ncfile.variables.keys())\n",
    "print(a[:-1].shape)\n",
    "\n",
    "#ncfile.variables"
   ]
  }
 ],
 "metadata": {
  "kernelspec": {
   "display_name": "Python 3",
   "language": "python",
   "name": "python3"
  },
  "language_info": {
   "codemirror_mode": {
    "name": "ipython",
    "version": 3
   },
   "file_extension": ".py",
   "mimetype": "text/x-python",
   "name": "python",
   "nbconvert_exporter": "python",
   "pygments_lexer": "ipython3",
   "version": "3.8.16"
  },
  "orig_nbformat": 4
 },
 "nbformat": 4,
 "nbformat_minor": 2
}
