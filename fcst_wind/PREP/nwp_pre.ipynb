{
 "cells": [
  {
   "cell_type": "code",
   "execution_count": 4,
   "metadata": {},
   "outputs": [
    {
     "name": "stdout",
     "output_type": "stream",
     "text": [
      "<class 'netCDF4._netCDF4.Dataset'>\n",
      "root group (NETCDF4 data model, file format HDF5):\n",
      "    Conventions: CF-1.0\n",
      "    History: Mon Apr 10 15:36:01 2023: ncrcat ./l015_v070_erlo_unis_h000.2023041000.nc ./l015_v070_erlo_unis_h001.2023041000.nc ./l015_v070_erlo_unis_h002.2023041000.nc ./l015_v070_erlo_unis_h003.2023041000.nc ./l015_v070_erlo_unis_h004.2023041000.nc ./l015_v070_erlo_unis_h005.2023041000.nc ./l015_v070_erlo_unis_h006.2023041000.nc ./l015_v070_erlo_unis_h007.2023041000.nc ./l015_v070_erlo_unis_h008.2023041000.nc ./l015_v070_erlo_unis_h009.2023041000.nc ./l015_v070_erlo_unis_h010.2023041000.nc ./l015_v070_erlo_unis_h011.2023041000.nc ./l015_v070_erlo_unis_h012.2023041000.nc ./l015_v070_erlo_unis_h013.2023041000.nc ./l015_v070_erlo_unis_h014.2023041000.nc ./l015_v070_erlo_unis_h015.2023041000.nc ./l015_v070_erlo_unis_h016.2023041000.nc ./l015_v070_erlo_unis_h017.2023041000.nc ./l015_v070_erlo_unis_h018.2023041000.nc ./l015_v070_erlo_unis_h019.2023041000.nc ./l015_v070_erlo_unis_h020.2023041000.nc ./l015_v070_erlo_unis_h021.2023041000.nc ./l015_v070_erlo_unis_h022.2023041000.nc ./l015_v070_erlo_unis_h023.2023041000.nc ./l015_v070_erlo_unis_h024.2023041000.nc ./l015_v070_erlo_unis_h025.2023041000.nc ./l015_v070_erlo_unis_h026.2023041000.nc ./l015_v070_erlo_unis_h027.2023041000.nc ./l015_v070_erlo_unis_h028.2023041000.nc ./l015_v070_erlo_unis_h029.2023041000.nc ./l015_v070_erlo_unis_h030.2023041000.nc ./l015_v070_erlo_unis_h031.2023041000.nc ./l015_v070_erlo_unis_h032.2023041000.nc ./l015_v070_erlo_unis_h033.2023041000.nc ./l015_v070_erlo_unis_h034.2023041000.nc ./l015_v070_erlo_unis_h035.2023041000.nc ./l015_v070_erlo_unis_h036.2023041000.nc ./l015_v070_erlo_unis_h037.2023041000.nc ./l015_v070_erlo_unis_h038.2023041000.nc ./l015_v070_erlo_unis_h039.2023041000.nc ./l015_v070_erlo_unis_h040.2023041000.nc ./l015_v070_erlo_unis_h041.2023041000.nc ./l015_v070_erlo_unis_h042.2023041000.nc ./l015_v070_erlo_unis_h043.2023041000.nc ./l015_v070_erlo_unis_h044.2023041000.nc ./l015_v070_erlo_unis_h045.2023041000.nc ./l015_v070_erlo_unis_h046.2023041000.nc ./l015_v070_erlo_unis_h047.2023041000.nc ./l015_v070_erlo_unis_h048.2023041000.nc -O -o ./l015_v070_erlo_unis_20kind.2023041000.nc\n",
      "created by wgrib2\n",
      "    GRIB2_grid_template: 30\n",
      "    NCO: netCDF Operators version 4.9.0 (Homepage = http://nco.sf.net, Code = http://github.com/nco/nco)\n",
      "    sphere: 6371008.7700000005\n",
      "    lower_right_northing: -617592.7340369371\n",
      "    lower_right_easting: 514284.31612591766\n",
      "    lower_left_northing: -617592.7340369371\n",
      "    lower_left_easting: -388715.68387408234\n",
      "    upper_right_northing: 553907.2659630629\n",
      "    upper_right_easting: 514284.31612591766\n",
      "    upper_left_northing: 553907.2659630629\n",
      "    upper_left_easting: -388715.68387408234\n",
      "    y0: 411.2284893579581\n",
      "    x0: 258.64378924938825\n",
      "    dy: 1500.0\n",
      "    dx: 1500.0\n",
      "    pixel_size: 1500.0\n",
      "    image_height: 781\n",
      "    image_width: 602\n",
      "    false_northing: 0.0\n",
      "    false_easting: 0.0\n",
      "    central_meridian: 126.0\n",
      "    origin_latitude: 38.0\n",
      "    standard_parallel2: 60.0\n",
      "    standard_parallel1: 30.0\n",
      "    projection_type: Lambert Conformal Conic\n",
      "    Version: 1.0\n",
      "    Institution: KMA\n",
      "    dimensions(sizes): y(781), x(602), time(49)\n",
      "    variables(dimensions): float64 y(y), float64 x(x), float64 latitude(y, x), float64 longitude(y, x), float64 time(time), float32 NDNSW_surface(time, y, x), float32 NCPCP_surface(time, y, x), float32 SNOL_surface(time, y, x), float32 UGRD_10maboveground(time, y, x), float32 VGRD_10maboveground(time, y, x), float32 TMP_1_5maboveground(time, y, x), float32 TMIN_1_5maboveground(time, y, x), float32 TMAX_1_5maboveground(time, y, x), float32 SPFH_1_5maboveground(time, y, x), float32 RH_1_5maboveground(time, y, x), float32 VIS_1_5maboveground(time, y, x), float32 DPT_1_5maboveground(time, y, x), float32 MAXGUST_0maboveground(time, y, x), float32 LCDC_entireatmosphere_consideredasasinglelayer_(time, y, x), float32 MCDC_entireatmosphere_consideredasasinglelayer_(time, y, x), float32 HCDC_entireatmosphere_consideredasasinglelayer_(time, y, x), float32 TCAR_entireatmosphere_consideredasasinglelayer_(time, y, x), float32 PRMSL_meansealevel(time, y, x), float32 TMP_surface(time, y, x), float32 PRES_surface(time, y, x)\n",
      "    groups: \n"
     ]
    }
   ],
   "source": [
    "import numpy as np\n",
    "import netCDF4 as nc\n",
    "\n",
    "# NetCDF 파일 열기\n",
    "ncfile = nc.Dataset(r\"D:\\KMK_DATA\\NWP\\l015_v070_erlo_unis_20kind.2023041000.nc\")\n",
    "print(ncfile)"
   ]
  },
  {
   "cell_type": "code",
   "execution_count": 32,
   "metadata": {},
   "outputs": [],
   "source": [
    "from nco import Nco\n",
    "\n",
    "nco = Nco()\n",
    "nco.operators."
   ]
  },
  {
   "cell_type": "code",
   "execution_count": 33,
   "metadata": {},
   "outputs": [
    {
     "ename": "AttributeError",
     "evalue": "module 'nco' has no attribute 'ncra'",
     "output_type": "error",
     "traceback": [
      "\u001b[1;31m---------------------------------------------------------------------------\u001b[0m",
      "\u001b[1;31mAttributeError\u001b[0m                            Traceback (most recent call last)",
      "Cell \u001b[1;32mIn[33], line 2\u001b[0m\n\u001b[0;32m      1\u001b[0m \u001b[39mimport\u001b[39;00m \u001b[39mpandas\u001b[39;00m \u001b[39mas\u001b[39;00m \u001b[39mpd\u001b[39;00m \n\u001b[1;32m----> 2\u001b[0m lat \u001b[39m=\u001b[39m nco\u001b[39m.\u001b[39;49mncra(\u001b[39minput\u001b[39m\u001b[39m=\u001b[39m\u001b[39mr\u001b[39m\u001b[39m\"\u001b[39m\u001b[39mD:\u001b[39m\u001b[39m\\\u001b[39m\u001b[39mKMK_DATA\u001b[39m\u001b[39m\\\u001b[39m\u001b[39mNWP\u001b[39m\u001b[39m\\\u001b[39m\u001b[39ml015_v070_erlo_unis_20kind.2023041000.nc\u001b[39m\u001b[39m\"\u001b[39m, returnArray\u001b[39m=\u001b[39m\u001b[39mTrue\u001b[39;00m)\u001b[39m.\u001b[39mvariables[\u001b[39m\"\u001b[39m\u001b[39mlatitude\u001b[39m\u001b[39m\"\u001b[39m][:]\n\u001b[0;32m      3\u001b[0m \u001b[39m#lat = pd.DataFrame(np.array(ncfile.variables[\"latitude\"]))\u001b[39;00m\n\u001b[0;32m      4\u001b[0m lon \u001b[39m=\u001b[39m pd\u001b[39m.\u001b[39mDataFrame(np\u001b[39m.\u001b[39marray(ncfile\u001b[39m.\u001b[39mvariables[\u001b[39m\"\u001b[39m\u001b[39mlongitude\u001b[39m\u001b[39m\"\u001b[39m]))\n",
      "\u001b[1;31mAttributeError\u001b[0m: module 'nco' has no attribute 'ncra'"
     ]
    }
   ],
   "source": [
    "import pandas as pd \n",
    "lat = nco.ncra(input=r\"D:\\KMK_DATA\\NWP\\l015_v070_erlo_unis_20kind.2023041000.nc\", returnArray=True).variables[\"latitude\"][:]\n",
    "#lat = pd.DataFrame(np.array(ncfile.variables[\"latitude\"]))\n",
    "lon = pd.DataFrame(np.array(ncfile.variables[\"longitude\"]))"
   ]
  },
  {
   "cell_type": "code",
   "execution_count": null,
   "metadata": {},
   "outputs": [],
   "source": [
    "from nco import Nco\n",
    "nco = Nco()\n",
    "temperatures = nco.ncra(input='input.nc', returnCdf=True).variables['T'][:]\n",
    "\n",
    "nco.operators"
   ]
  }
 ],
 "metadata": {
  "kernelspec": {
   "display_name": "Python 3",
   "language": "python",
   "name": "python3"
  },
  "language_info": {
   "codemirror_mode": {
    "name": "ipython",
    "version": 3
   },
   "file_extension": ".py",
   "mimetype": "text/x-python",
   "name": "python",
   "nbconvert_exporter": "python",
   "pygments_lexer": "ipython3",
   "version": "3.9.13"
  },
  "orig_nbformat": 4
 },
 "nbformat": 4,
 "nbformat_minor": 2
}
