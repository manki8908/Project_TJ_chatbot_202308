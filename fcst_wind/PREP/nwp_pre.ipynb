{
 "cells": [
  {
   "cell_type": "markdown",
   "metadata": {},
   "source": [
    "### Grid to point"
   ]
  },
  {
   "cell_type": "code",
   "execution_count": 9,
   "metadata": {},
   "outputs": [
    {
     "name": "stdout",
     "output_type": "stream",
     "text": [
      "37.7515\n",
      "dict_keys(['47105'])\n",
      "dict_values([[37.7515, 128.891]])\n",
      "1\n"
     ]
    }
   ],
   "source": [
    "import numpy as np\n",
    "import pandas as pd \n",
    "\n",
    "# set para\n",
    "stn_latlon = {\"47105\": [37.7515, 128.891]}\n",
    "\n",
    "print(stn_latlon['47105'][0])\n",
    "print(stn_latlon.keys())\n",
    "print(stn_latlon.values()[])\n",
    "print(len(stn_latlon))"
   ]
  },
  {
   "cell_type": "code",
   "execution_count": 18,
   "metadata": {},
   "outputs": [
    {
     "name": "stdout",
     "output_type": "stream",
     "text": [
      "47105 [37.7515, 128.891]\n",
      "47105 [37.7515, 128.891]\n",
      "47105 [37.7515, 128.891]\n",
      "47105 [37.7515, 128.891]\n"
     ]
    }
   ],
   "source": [
    "from cdo import Cdo\n",
    "import glob\n",
    "import sys\n",
    "import os\n",
    "\n",
    "#\n",
    "cdo = Cdo()\n",
    "\n",
    "\n",
    "# Get all files in the current directory\n",
    "input_dir = \"/Users/mankikim/JOB/DATA/\"\n",
    "files = glob.glob(input_dir + \"*.nc\")\n",
    "\n",
    "# nearest grid 추출\n",
    "for file in files:\n",
    "    date = file.split(\".\")[1]\n",
    "    for key, value in stn_latlon.items():\n",
    "        print(key, value)\n",
    "        stn_id = key\n",
    "        lat = value[0]\n",
    "        lon = value[1]\n",
    "\n",
    "        cdo_parameters = f'lon={lon}_lat={lat}'\n",
    "\n",
    "        if not os.path.exists(f\"../DAIO/{key}\"): os.makedirs(f\"../DAIO/{key}\")\n",
    "\n",
    "        output_name = f\"../DAIO/{key}/ldaps_stn_{key}_{date}.nc\"\n",
    "\n",
    "        cdo.remapnn(cdo_parameters, input=file, output=output_name)"
   ]
  },
  {
   "cell_type": "markdown",
   "metadata": {},
   "source": [
    "### Make batch, sequence"
   ]
  },
  {
   "cell_type": "code",
   "execution_count": null,
   "metadata": {},
   "outputs": [],
   "source": []
  }
 ],
 "metadata": {
  "kernelspec": {
   "display_name": "Python 3",
   "language": "python",
   "name": "python3"
  },
  "language_info": {
   "codemirror_mode": {
    "name": "ipython",
    "version": 3
   },
   "file_extension": ".py",
   "mimetype": "text/x-python",
   "name": "python",
   "nbconvert_exporter": "python",
   "pygments_lexer": "ipython3",
   "version": "3.8.16"
  },
  "orig_nbformat": 4
 },
 "nbformat": 4,
 "nbformat_minor": 2
}
