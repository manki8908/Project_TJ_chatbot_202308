{
 "cells": [
  {
   "cell_type": "code",
   "execution_count": 9,
   "metadata": {},
   "outputs": [],
   "source": [
    "from cdo import Cdo\n",
    "cdo = Cdo()\n",
    "#cdo -outputtab,lon,lat,date,time,value -remapnn,lon=7.36_lat=43.89 test.nc\n",
    "#cdo.OPERATOR(\"PARAETERS\", input=\"FILENAME.nc\", output=\"FILENAME.nc\")\n",
    "#cdo.operators(input=\"-remapnn,lon=36.5_lat=37.5 /Users/mankikim/JOB/DATA/l015_v070_erlo_unis_20kind.2023040300.nc test.nc\")\n",
    "#cdo.remapnn(input=)"
   ]
  },
  {
   "cell_type": "code",
   "execution_count": null,
   "metadata": {},
   "outputs": [],
   "source": [
    "#cdo remapnn,lon=127.5_lat=35.5 l015_v070_erlo_unis_20kind.2023040300.nc test.nc"
   ]
  }
 ],
 "metadata": {
  "kernelspec": {
   "display_name": "Python 3",
   "language": "python",
   "name": "python3"
  },
  "language_info": {
   "codemirror_mode": {
    "name": "ipython",
    "version": 3
   },
   "file_extension": ".py",
   "mimetype": "text/x-python",
   "name": "python",
   "nbconvert_exporter": "python",
   "pygments_lexer": "ipython3",
   "version": "3.8.16"
  },
  "orig_nbformat": 4
 },
 "nbformat": 4,
 "nbformat_minor": 2
}
