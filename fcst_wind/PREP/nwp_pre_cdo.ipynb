{
 "cells": [
  {
   "cell_type": "markdown",
   "metadata": {},
   "source": [
    "### 터미널에서 cdo로 파일 변환"
   ]
  },
  {
   "cell_type": "code",
   "execution_count": 9,
   "metadata": {},
   "outputs": [],
   "source": [
    "from cdo import Cdo\n",
    "cdo = Cdo()\n",
    "\n",
    "# 터미널에서 변환 예시)\n",
    "#cdo -outputtab,lon,lat,date,time,value -remapnn,lon=7.36_lat=43.89 test.nc\n",
    "#cdo remapnn,lon=127.5_lat=35.5 l015_v070_erlo_unis_20kind.2023040300.nc test.nc\n",
    "\n",
    "# pycdo?? 방법 찾는중\n",
    "#cdo.remapnn(input=)"
   ]
  },
  {
   "cell_type": "code",
   "execution_count": null,
   "metadata": {},
   "outputs": [],
   "source": [
    "# 적용할 관측 지점 위경도 리스트\n",
    "point_dic = ß\n",
    "#cdo remapnn,lon=127.5_lat=35.5 l015_v070_erlo_unis_20kind.2023040300.nc test.nc"
   ]
  }
 ],
 "metadata": {
  "kernelspec": {
   "display_name": "Python 3",
   "language": "python",
   "name": "python3"
  },
  "language_info": {
   "codemirror_mode": {
    "name": "ipython",
    "version": 3
   },
   "file_extension": ".py",
   "mimetype": "text/x-python",
   "name": "python",
   "nbconvert_exporter": "python",
   "pygments_lexer": "ipython3",
   "version": "3.8.16"
  },
  "orig_nbformat": 4
 },
 "nbformat": 4,
 "nbformat_minor": 2
}
