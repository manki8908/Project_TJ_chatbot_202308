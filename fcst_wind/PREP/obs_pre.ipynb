{
 "cells": [
  {
   "cell_type": "code",
   "execution_count": 216,
   "metadata": {},
   "outputs": [
    {
     "name": "stdout",
     "output_type": "stream",
     "text": [
      "        지점 지점명                  일시  풍속(m/s)  풍향(16방위)\n",
      "0      105  강릉 2021-01-01 00:00:00      4.7     230.0\n",
      "1      105  강릉 2021-01-01 01:00:00      3.4     250.0\n",
      "2      105  강릉 2021-01-01 02:00:00      2.8     230.0\n",
      "3      105  강릉 2021-01-01 03:00:00      1.5     230.0\n",
      "4      105  강릉 2021-01-01 04:00:00      3.4     230.0\n",
      "...    ...  ..                 ...      ...       ...\n",
      "21854  105  강릉 2023-06-30 19:00:00      0.3       0.0\n",
      "21855  105  강릉 2023-06-30 20:00:00      1.1     140.0\n",
      "21856  105  강릉 2023-06-30 21:00:00      0.5      70.0\n",
      "21857  105  강릉 2023-06-30 22:00:00      0.9      50.0\n",
      "21858  105  강릉 2023-06-30 23:00:00      0.5     320.0\n",
      "\n",
      "[21859 rows x 5 columns]\n"
     ]
    }
   ],
   "source": [
    "import openpyxl\n",
    "import pandas as pd\n",
    "import numpy as np\n",
    "\n",
    "# .. OBS Data load\n",
    "read_dir = \"D:\\KMK_DATA\\OBS\\HOURLY\\\\\"\n",
    "read_list = [\n",
    "    \"47105_OBS_ASOS_TIM_20210101_20211231.csv\",\n",
    "    \"47105_OBS_ASOS_TIM_20220101_20221231.csv\",\n",
    "    \"47105_OBS_ASOS_TIM_20230101_20230630.csv\"\n",
    "]\n",
    "set_col = ['지점', '지점명', '일시', '풍속(m/s)', '풍향(16방위)']\n",
    "\n",
    "df1 = pd.DataFrame()\n",
    "for file in read_list:\n",
    "    read_file = read_dir + file\n",
    "    #print(read_file)\n",
    "    df = pd.read_csv(read_file, encoding='cp949')\n",
    "    df1 = pd.concat([df1, df], axis=0, ignore_index=True)\n",
    "\n",
    "\n",
    "df1 = df1[set_col]\n",
    "df1['일시'] = pd.to_datetime(df1['일시'])\n",
    "print(df1)\n",
    "\n",
    "\n"
   ]
  },
  {
   "cell_type": "code",
   "execution_count": 217,
   "metadata": {},
   "outputs": [],
   "source": [
    "from metpy.calc import wind_components\n",
    "from metpy.units import units\n",
    "\n",
    "#df['새로운변수'] = df.apply(lambda x: sample_function(x.변수1, x.변수2, ...), axis = 1)\n",
    "\n",
    "def wind_to_uv(spd, dir):\n",
    "    a = wind_components(spd * units('m/s'), dir * units.deg)\n",
    "    return np.array(a[0]),np.array(a[1])\n",
    "\n",
    "u_list, v_list = [], []\n",
    "for i in range(df1.shape[0]):\n",
    "    u, v = wind_to_uv(df1['풍속(m/s)'][i], df1['풍향(16방위)'][i])\n",
    "    u_list.append(u)\n",
    "    v_list.append(v)\n",
    "#u, v = wind_to_uv(df1['풍속(m/s)'], df1['풍향(16방위)'])\n",
    "#u.shape\n",
    "df1['U_comp.'] = np.round(u_list, 2)\n",
    "df1['V_comp.'] = np.round(v_list, 2)\n",
    "\n",
    "df1 = df1.set_index('일시')"
   ]
  },
  {
   "cell_type": "code",
   "execution_count": 218,
   "metadata": {},
   "outputs": [
    {
     "name": "stdout",
     "output_type": "stream",
     "text": [
      "<class 'pandas.core.frame.DataFrame'>\n",
      "DatetimeIndex: 21859 entries, 2021-01-01 00:00:00 to 2023-06-30 23:00:00\n",
      "Data columns (total 6 columns):\n",
      " #   Column    Non-Null Count  Dtype  \n",
      "---  ------    --------------  -----  \n",
      " 0   지점        21859 non-null  int64  \n",
      " 1   지점명       21859 non-null  object \n",
      " 2   풍속(m/s)   21849 non-null  float64\n",
      " 3   풍향(16방위)  21849 non-null  float64\n",
      " 4   U_comp.   21849 non-null  float64\n",
      " 5   V_comp.   21849 non-null  float64\n",
      "dtypes: float64(4), int64(1), object(1)\n",
      "memory usage: 1.2+ MB\n"
     ]
    },
    {
     "data": {
      "text/html": [
       "<div>\n",
       "<style scoped>\n",
       "    .dataframe tbody tr th:only-of-type {\n",
       "        vertical-align: middle;\n",
       "    }\n",
       "\n",
       "    .dataframe tbody tr th {\n",
       "        vertical-align: top;\n",
       "    }\n",
       "\n",
       "    .dataframe thead th {\n",
       "        text-align: right;\n",
       "    }\n",
       "</style>\n",
       "<table border=\"1\" class=\"dataframe\">\n",
       "  <thead>\n",
       "    <tr style=\"text-align: right;\">\n",
       "      <th></th>\n",
       "      <th>지점</th>\n",
       "      <th>지점명</th>\n",
       "      <th>풍속(m/s)</th>\n",
       "      <th>풍향(16방위)</th>\n",
       "      <th>U_comp.</th>\n",
       "      <th>V_comp.</th>\n",
       "    </tr>\n",
       "    <tr>\n",
       "      <th>일시</th>\n",
       "      <th></th>\n",
       "      <th></th>\n",
       "      <th></th>\n",
       "      <th></th>\n",
       "      <th></th>\n",
       "      <th></th>\n",
       "    </tr>\n",
       "  </thead>\n",
       "  <tbody>\n",
       "    <tr>\n",
       "      <th>2023-06-30 19:00:00</th>\n",
       "      <td>105</td>\n",
       "      <td>강릉</td>\n",
       "      <td>0.3</td>\n",
       "      <td>0.0</td>\n",
       "      <td>-0.00</td>\n",
       "      <td>-0.30</td>\n",
       "    </tr>\n",
       "    <tr>\n",
       "      <th>2023-06-30 20:00:00</th>\n",
       "      <td>105</td>\n",
       "      <td>강릉</td>\n",
       "      <td>1.1</td>\n",
       "      <td>140.0</td>\n",
       "      <td>-0.71</td>\n",
       "      <td>0.84</td>\n",
       "    </tr>\n",
       "    <tr>\n",
       "      <th>2023-06-30 21:00:00</th>\n",
       "      <td>105</td>\n",
       "      <td>강릉</td>\n",
       "      <td>0.5</td>\n",
       "      <td>70.0</td>\n",
       "      <td>-0.47</td>\n",
       "      <td>-0.17</td>\n",
       "    </tr>\n",
       "    <tr>\n",
       "      <th>2023-06-30 22:00:00</th>\n",
       "      <td>105</td>\n",
       "      <td>강릉</td>\n",
       "      <td>0.9</td>\n",
       "      <td>50.0</td>\n",
       "      <td>-0.69</td>\n",
       "      <td>-0.58</td>\n",
       "    </tr>\n",
       "    <tr>\n",
       "      <th>2023-06-30 23:00:00</th>\n",
       "      <td>105</td>\n",
       "      <td>강릉</td>\n",
       "      <td>0.5</td>\n",
       "      <td>320.0</td>\n",
       "      <td>0.32</td>\n",
       "      <td>-0.38</td>\n",
       "    </tr>\n",
       "  </tbody>\n",
       "</table>\n",
       "</div>"
      ],
      "text/plain": [
       "                      지점 지점명  풍속(m/s)  풍향(16방위)  U_comp.  V_comp.\n",
       "일시                                                               \n",
       "2023-06-30 19:00:00  105  강릉      0.3       0.0    -0.00    -0.30\n",
       "2023-06-30 20:00:00  105  강릉      1.1     140.0    -0.71     0.84\n",
       "2023-06-30 21:00:00  105  강릉      0.5      70.0    -0.47    -0.17\n",
       "2023-06-30 22:00:00  105  강릉      0.9      50.0    -0.69    -0.58\n",
       "2023-06-30 23:00:00  105  강릉      0.5     320.0     0.32    -0.38"
      ]
     },
     "execution_count": 218,
     "metadata": {},
     "output_type": "execute_result"
    }
   ],
   "source": [
    "df1.info()\n",
    "df1.tail()\n"
   ]
  },
  {
   "cell_type": "code",
   "execution_count": 219,
   "metadata": {},
   "outputs": [
    {
     "name": "stdout",
     "output_type": "stream",
     "text": [
      "<class 'pandas.core.frame.DataFrame'>\n",
      "DatetimeIndex: 21859 entries, 2021-01-01 00:00:00 to 2023-06-30 23:00:00\n",
      "Data columns (total 6 columns):\n",
      " #   Column    Non-Null Count  Dtype  \n",
      "---  ------    --------------  -----  \n",
      " 0   지점        21859 non-null  int64  \n",
      " 1   지점명       21859 non-null  object \n",
      " 2   풍속(m/s)   21849 non-null  float64\n",
      " 3   풍향(16방위)  21849 non-null  float64\n",
      " 4   U_comp.   21849 non-null  float64\n",
      " 5   V_comp.   21849 non-null  float64\n",
      "dtypes: float64(4), int64(1), object(1)\n",
      "memory usage: 1.2+ MB\n",
      "None\n",
      "지점           0\n",
      "지점명          0\n",
      "풍속(m/s)     10\n",
      "풍향(16방위)    10\n",
      "U_comp.     10\n",
      "V_comp.     10\n",
      "dtype: int64\n"
     ]
    }
   ],
   "source": [
    "print(df1.info())\n",
    "print(df1.isnull().sum())"
   ]
  },
  {
   "cell_type": "code",
   "execution_count": 236,
   "metadata": {},
   "outputs": [
    {
     "name": "stdout",
     "output_type": "stream",
     "text": [
      "DatetimeIndex(['2022-03-19 09:00:00', '2022-03-19 10:00:00',\n",
      "               '2022-03-19 11:00:00', '2022-07-13 14:00:00',\n",
      "               '2022-09-08 06:00:00', '2022-09-08 07:00:00',\n",
      "               '2022-09-08 08:00:00', '2022-09-08 09:00:00',\n",
      "               '2022-09-08 10:00:00', '2022-09-08 11:00:00'],\n",
      "              dtype='datetime64[ns]', name='일시', freq=None)\n"
     ]
    }
   ],
   "source": [
    "# 결측치의 index 번호 찾기\n",
    "mask = df1['U_comp.'].isnull()\n",
    "index_list = df1.index[mask]\n",
    "\n",
    "print(index_list)\n",
    "\n",
    "#print(df1.index)\n",
    "# with open('./print_dates.txt', 'w', encoding='cp949') as f:\n",
    "#     for i in df1.index:\n",
    "#         print(i, file=f)"
   ]
  },
  {
   "cell_type": "code",
   "execution_count": null,
   "metadata": {},
   "outputs": [],
   "source": [
    "#df1.loc['2022-03-19 09:00:00']\n",
    "df1.loc['2021-10-27 01:00:00'] # 결측 NaN, 진짜 없음 결측\n",
    "#df1.loc['2021-12-31 02:00:00']"
   ]
  },
  {
   "cell_type": "code",
   "execution_count": 235,
   "metadata": {},
   "outputs": [
    {
     "name": "stdout",
     "output_type": "stream",
     "text": [
      "있어야할 day수:  868\n",
      "Timestamp('2021-10-27 01:00:00')\n",
      "Timestamp('2021-10-27 01:00:00')\n",
      "Timestamp('2022-08-26 01:00:00')\n",
      "Timestamp('2022-08-26 01:00:00')\n"
     ]
    }
   ],
   "source": [
    "# .. extract date\n",
    "set_dates = pd.date_range('2021-01-14 09:00:00', '2023-05-31 09:00:00', freq='D')\n",
    "print(\"있어야할 day수: \", len(set_dates))\n",
    "\n",
    "\n",
    "# rdates = pd.date_range('2022-03-19 09:00:00', periods=48, freq='H')\n",
    "# print('1111', set_dates[0:2])\n",
    "\n",
    "\n",
    "# make (batch, sequence=48, feature=[u,v])\n",
    "obs_data = np.full( (len(set_dates),48,2), np.nan )\n",
    "\n",
    "\n",
    "for i,day in enumerate(set_dates):\n",
    "   rdates = pd.date_range(day, periods=48, freq='H')\n",
    "   try:\n",
    "      for j, rdate in enumerate(rdates):\n",
    "         obs_data[i,:,0] = df1.loc[rdate,'U_comp.']\n",
    "         obs_data[i,:,1] = df1.loc[rdate,'V_comp.']\n",
    "   except Exception as e:\n",
    "      print(e)  # nan으로 있지도 않은 자료\n"
   ]
  },
  {
   "cell_type": "code",
   "execution_count": 237,
   "metadata": {},
   "outputs": [
    {
     "name": "stdout",
     "output_type": "stream",
     "text": [
      "DatetimeIndex(['2022-05-31 09:00:00', '2022-05-31 10:00:00',\n",
      "               '2022-05-31 11:00:00', '2022-05-31 12:00:00',\n",
      "               '2022-05-31 13:00:00', '2022-05-31 14:00:00',\n",
      "               '2022-05-31 15:00:00', '2022-05-31 16:00:00',\n",
      "               '2022-05-31 17:00:00', '2022-05-31 18:00:00',\n",
      "               '2022-05-31 19:00:00', '2022-05-31 20:00:00',\n",
      "               '2022-05-31 21:00:00', '2022-05-31 22:00:00',\n",
      "               '2022-05-31 23:00:00', '2022-06-01 00:00:00',\n",
      "               '2022-06-01 01:00:00', '2022-06-01 02:00:00',\n",
      "               '2022-06-01 03:00:00', '2022-06-01 04:00:00',\n",
      "               '2022-06-01 05:00:00', '2022-06-01 06:00:00',\n",
      "               '2022-06-01 07:00:00', '2022-06-01 08:00:00',\n",
      "               '2022-06-01 09:00:00', '2022-06-01 10:00:00',\n",
      "               '2022-06-01 11:00:00', '2022-06-01 12:00:00',\n",
      "               '2022-06-01 13:00:00', '2022-06-01 14:00:00',\n",
      "               '2022-06-01 15:00:00', '2022-06-01 16:00:00',\n",
      "               '2022-06-01 17:00:00', '2022-06-01 18:00:00',\n",
      "               '2022-06-01 19:00:00', '2022-06-01 20:00:00',\n",
      "               '2022-06-01 21:00:00', '2022-06-01 22:00:00',\n",
      "               '2022-06-01 23:00:00', '2022-06-02 00:00:00',\n",
      "               '2022-06-02 01:00:00', '2022-06-02 02:00:00',\n",
      "               '2022-06-02 03:00:00', '2022-06-02 04:00:00',\n",
      "               '2022-06-02 05:00:00', '2022-06-02 06:00:00',\n",
      "               '2022-06-02 07:00:00', '2022-06-02 08:00:00'],\n",
      "              dtype='datetime64[ns]', freq='H')\n"
     ]
    }
   ],
   "source": [
    "rdates = pd.date_range('2022-05-31 09:00:00', periods=48, freq='H')\n",
    "print(rdates)\n",
    "test_spd = df1.loc[rdates,'풍속(m/s)']\n",
    "test_dir = df1.loc[rdates,'풍향(16방위)']"
   ]
  },
  {
   "cell_type": "code",
   "execution_count": 238,
   "metadata": {},
   "outputs": [
    {
     "name": "stdout",
     "output_type": "stream",
     "text": [
      "(868, 48, 2)\n",
      "0,  1.5,  3.6,  90.0,  320.0\n",
      "1,  1.5,  5.0,  90.0,  320.0\n",
      "2,  1.5,  2.4,  90.0,  70.0\n",
      "3,  1.5,  1.8,  90.0,  90.0\n",
      "4,  1.5,  2.4,  90.0,  70.0\n",
      "5,  1.5,  1.5,  90.0,  90.0\n",
      "6,  1.5,  1.8,  90.0,  90.0\n",
      "7,  1.5,  2.2,  90.0,  90.0\n",
      "8,  1.5,  5.1,  90.0,  250.0\n",
      "9,  1.5,  4.0,  90.0,  230.0\n",
      "10,  1.5,  2.9,  90.0,  250.0\n",
      "11,  1.5,  3.5,  90.0,  250.0\n",
      "12,  1.5,  2.2,  90.0,  250.0\n",
      "13,  1.5,  3.1,  90.0,  250.0\n",
      "14,  1.5,  3.5,  90.0,  200.0\n",
      "15,  1.5,  2.8,  90.0,  230.0\n",
      "16,  1.5,  2.8,  90.0,  200.0\n",
      "17,  1.5,  3.0,  90.0,  250.0\n",
      "18,  1.5,  5.1,  90.0,  250.0\n",
      "19,  1.5,  2.9,  90.0,  250.0\n",
      "20,  1.5,  2.5,  90.0,  290.0\n",
      "21,  1.5,  2.4,  90.0,  230.0\n",
      "22,  1.5,  2.9,  90.0,  250.0\n",
      "23,  1.5,  1.6,  90.0,  230.0\n",
      "24,  1.5,  1.8,  90.0,  230.0\n",
      "25,  1.5,  4.5,  90.0,  230.0\n",
      "26,  1.5,  3.9,  90.0,  230.0\n",
      "27,  1.5,  4.6,  90.0,  250.0\n",
      "28,  1.5,  2.2,  90.0,  70.0\n",
      "29,  1.5,  2.3,  90.0,  90.0\n",
      "30,  1.5,  1.9,  90.0,  70.0\n",
      "31,  1.5,  1.5,  90.0,  70.0\n",
      "32,  1.5,  2.3,  90.0,  50.0\n",
      "33,  1.5,  1.2,  90.0,  70.0\n",
      "34,  1.5,  0.8,  90.0,  360.0\n",
      "35,  1.5,  0.2,  90.0,  0.0\n",
      "36,  1.5,  2.5,  90.0,  250.0\n",
      "37,  1.5,  1.3,  90.0,  230.0\n",
      "38,  1.5,  2.7,  90.0,  230.0\n",
      "39,  1.5,  1.7,  90.0,  180.0\n",
      "40,  1.5,  2.1,  90.0,  250.0\n",
      "41,  1.5,  2.1,  90.0,  270.0\n",
      "42,  1.5,  2.1,  90.0,  290.0\n",
      "43,  1.5,  2.9,  90.0,  230.0\n",
      "44,  1.5,  2.2,  90.0,  250.0\n",
      "45,  1.5,  0.8,  90.0,  250.0\n",
      "46,  1.5,  2.2,  90.0,  250.0\n",
      "47,  1.5,  3.4,  90.0,  200.0\n"
     ]
    }
   ],
   "source": [
    "# np.array 결측 제거 테스트\n",
    "# a = np.array([[1,2,3],[4,5,6],[7,8,np.nan]])\n",
    "# print(a.shape)\n",
    "# mask = np.isnan(a).any(axis=0)\n",
    "# b = a[~mask]\n",
    "# print(b.shape)\n",
    "\n",
    "\n",
    "\n",
    "from metpy.calc import wind_speed, wind_direction\n",
    "print(obs_data.shape)\n",
    "\n",
    "\n",
    "# 원래 파일에도 없는 index때문에 배열 꼬인듯, 고치기\n",
    "for i, (u, v) in enumerate(obs_data[-1,:,:]):\n",
    "    spd = np.array(np.round(wind_speed(u* units('m/s'), v* units('m/s')), 2))\n",
    "    dir = np.array(np.round(wind_direction(u* units('m/s'),v* units('m/s')), 0))\n",
    "    print(i, spd, test_spd[i], dir, test_dir[i], sep=',  ' )\n",
    "    \n",
    "\n",
    "\n",
    "\n"
   ]
  }
 ],
 "metadata": {
  "kernelspec": {
   "display_name": "Python 3",
   "language": "python",
   "name": "python3"
  },
  "language_info": {
   "codemirror_mode": {
    "name": "ipython",
    "version": 3
   },
   "file_extension": ".py",
   "mimetype": "text/x-python",
   "name": "python",
   "nbconvert_exporter": "python",
   "pygments_lexer": "ipython3",
   "version": "3.9.13"
  },
  "orig_nbformat": 4
 },
 "nbformat": 4,
 "nbformat_minor": 2
}
