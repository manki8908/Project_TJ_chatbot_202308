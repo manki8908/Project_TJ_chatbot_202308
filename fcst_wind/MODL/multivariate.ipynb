{
 "cells": [
  {
   "cell_type": "markdown",
   "metadata": {},
   "source": [
    "### 편차보정모델 개발"
   ]
  },
  {
   "cell_type": "markdown",
   "metadata": {},
   "source": [
    "데이터 로드, 결측제거, 변수 선택"
   ]
  },
  {
   "cell_type": "code",
   "execution_count": 18,
   "metadata": {},
   "outputs": [
    {
     "name": "stdout",
     "output_type": "stream",
     "text": [
      "(868, 49, 20)\n",
      "(868, 49, 2)\n",
      "결측 합계:  676\n",
      "(192, 49, 20)\n",
      "(192, 49, 2)\n",
      "(192, 49, 6)\n",
      "(192, 49, 2)\n"
     ]
    }
   ],
   "source": [
    "import numpy as np\n",
    "import pandas as pd\n",
    "\n",
    "import sys\n",
    "sys.path.insert(0, '../')\n",
    "from config.global_params import variable_info\n",
    "\n",
    "\n",
    "# 인풋 준비\n",
    "nwp_file = \"../DAIO/nwp_data_47105\"\n",
    "obs_file = \"../DAIO/obs_data_47105\"\n",
    "nwp_data = np.load(nwp_file)\n",
    "obs_data = np.load(obs_file)\n",
    "print(nwp_data.shape)\n",
    "print(obs_data.shape)\n",
    "\n",
    "\n",
    "# 결측제거\n",
    "missing_nwp = set(np.where(np.isnan(nwp_data))[0])\n",
    "missing_obs = set(np.where(np.isnan(obs_data))[0])\n",
    "missing_all = list(missing_nwp | missing_obs)\n",
    "print(\"결측 합계: \", len(missing_all))\n",
    "\n",
    "rem_nwp_data = np.delete(nwp_data, missing_all, 0)\n",
    "rem_obs_data = np.delete(obs_data, missing_all, 0)\n",
    "print(rem_nwp_data.shape)\n",
    "print(rem_obs_data.shape)\n",
    "\n",
    "\n",
    "# 변수선택\n",
    "sel_var = ['NDNSW_surface', 'UGRD_10m', 'VGRD_10m', 'RH_1_5ma', 'MAXGUST_0m', 'PRMSL_meansealevel']\n",
    "var_list_dict = list(variable_info.keys())\n",
    "var_index = [ var_list_dict.index(i) for i in sel_var ]\n",
    "#print(var_list_dict)\n",
    "#print(var_index)\n",
    "sel_rem_nwp_data = rem_nwp_data[:,:,var_index]\n",
    "rem_obs_data\n",
    "print(sel_rem_nwp_data.shape)\n",
    "print(rem_obs_data.shape)"
   ]
  },
  {
   "cell_type": "markdown",
   "metadata": {},
   "source": [
    "스케일링"
   ]
  },
  {
   "cell_type": "code",
   "execution_count": null,
   "metadata": {},
   "outputs": [],
   "source": [
    "# .. 스케일링 및 데이터 분할\n",
    "from sklearn.preprocessing import MinMaxScaler\n",
    "from sklearn.preprocessing import StandardScaler\n",
    "from sklearn.model_selection import train_test_split\n",
    "\n",
    "# .. 데이터 분할\n",
    "x_tr, x_vl, y_tr, y_vl = train_test_split(x_train_drop, y_train_drop, test_size=0.3, random_state=123, stratify=y_train_drop)\n",
    "\n",
    "# 스케일링\n",
    "#scaler = MinMaxScaler()\n",
    "scaler = StandardScaler()\n",
    "scaler.fit(x_train_drop)\n",
    "x_tr_scaled = scaler.transform(x_tr)\n",
    "x_vl_scaled = scaler.transform(x_vl)\n",
    "x_test_scaled = scaler.transform(x_test)"
   ]
  }
 ],
 "metadata": {
  "kernelspec": {
   "display_name": "Python 3",
   "language": "python",
   "name": "python3"
  },
  "language_info": {
   "codemirror_mode": {
    "name": "ipython",
    "version": 3
   },
   "file_extension": ".py",
   "mimetype": "text/x-python",
   "name": "python",
   "nbconvert_exporter": "python",
   "pygments_lexer": "ipython3",
   "version": "3.9.13"
  },
  "orig_nbformat": 4
 },
 "nbformat": 4,
 "nbformat_minor": 2
}
