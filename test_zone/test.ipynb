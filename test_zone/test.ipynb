{
 "cells": [
  {
   "cell_type": "code",
   "execution_count": 24,
   "metadata": {},
   "outputs": [
    {
     "name": "stdout",
     "output_type": "stream",
     "text": [
      "47105\n",
      "37.7515\n",
      "128.891\n"
     ]
    }
   ],
   "source": [
    "obs_stn = {\"47105\": [37.7515, 128.891]}\n",
    "\n",
    "item = list(obs_stn.items())\n",
    "print(item[0][0])\n",
    "print(item[0][1][0])\n",
    "print(item[0][1][1])"
   ]
  },
  {
   "cell_type": "code",
   "execution_count": 7,
   "metadata": {},
   "outputs": [],
   "source": [
    "import numpy as np\n",
    "\n",
    "u_OA_field = np.ndarray(shape=(400,400,2), dtype=np.float_)"
   ]
  },
  {
   "cell_type": "code",
   "execution_count": 9,
   "metadata": {},
   "outputs": [
    {
     "name": "stdout",
     "output_type": "stream",
     "text": [
      "0 UGRD_10maboveground 0\n",
      "1 VGRD_10maboveground 1\n"
     ]
    }
   ],
   "source": [
    "var_list = {\"UGRD_10maboveground\": 0, \"VGRD_10maboveground\": 1}\n",
    "\n",
    "for i, (key, value) in enumerate(var_list.items()):\n",
    "    print(i, key, value)"
   ]
  },
  {
   "cell_type": "code",
   "execution_count": 2,
   "metadata": {},
   "outputs": [
    {
     "name": "stdout",
     "output_type": "stream",
     "text": [
      "설악산 오색리구간\n"
     ]
    }
   ],
   "source": [
    "mload_name = '설악산, 오색리구간'\n",
    "\n",
    "mtn_name = mload_name.split(',')[0].strip()\n",
    "load_name = mload_name.split(',')[1].strip()\n",
    "\n",
    "print(mtn_name, load_name)"
   ]
  }
 ],
 "metadata": {
  "kernelspec": {
   "display_name": "Python 3",
   "language": "python",
   "name": "python3"
  },
  "language_info": {
   "codemirror_mode": {
    "name": "ipython",
    "version": 3
   },
   "file_extension": ".py",
   "mimetype": "text/x-python",
   "name": "python",
   "nbconvert_exporter": "python",
   "pygments_lexer": "ipython3",
   "version": "3.9.13"
  },
  "orig_nbformat": 4
 },
 "nbformat": 4,
 "nbformat_minor": 2
}
